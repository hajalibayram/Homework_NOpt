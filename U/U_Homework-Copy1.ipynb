{
 "cells": [
  {
   "cell_type": "code",
   "execution_count": 1,
   "metadata": {},
   "outputs": [],
   "source": [
    "import numpy as np"
   ]
  },
  {
   "cell_type": "code",
   "execution_count": 88,
   "metadata": {},
   "outputs": [],
   "source": [
    "def f(x):\n",
    "    f = np.zeros(len(x))\n",
    "    for i in range(len(x)):\n",
    "        f[i] = np.power(x[i], 4)/4 + np.power(x[i], 2)/2 + x[i]\n",
    "    return f     \n",
    "\n",
    "def delta_f(x):\n",
    "    return np.power(x, 3) + x + 1   \n",
    "\n",
    "def delta2_f(x):\n",
    "    return 3 * np.power(x, 2) + 1"
   ]
  },
  {
   "cell_type": "code",
   "execution_count": 148,
   "metadata": {},
   "outputs": [],
   "source": [
    "def steep(x0, alpha, kmax, tollgrad, grad_method = 'exact'):\n",
    "    x = np.zeros((len(x0), kmax))\n",
    "    x[:,0] = x0\n",
    "    \n",
    "    p = np.zeros((len(x0), kmax))\n",
    "    p[:, 0] = -delta_f(x0)\n",
    "    \n",
    "    delta_fk_norm = np.linalg.norm(delta_f(x0))\n",
    "    \n",
    "    \n",
    "    k = 0\n",
    "    while(k < kmax-1 and delta_fk_norm >= tollgrad):\n",
    "        \n",
    "        # Compute the new value for xk\n",
    "        x[:, k+1] = x[:, k] + alpha * p[:, k]\n",
    "\n",
    "        p[:, k+1] = -delta_f(x[:, k+1])\n",
    "        \n",
    "        # Compute the gradient of f in xk\n",
    "        delta_fk_norm = np.linalg.norm(delta_f(x[:, k+1]))\n",
    "        \n",
    "        # Increase the step by one\n",
    "        k += 1\n",
    "\n",
    "    # Compute f(xk)\n",
    "    fk = f(x[:, k-1]).sum()\n",
    "\n",
    "    # \"Cut\" xseq to the correct size\n",
    "    x = x[:, :k]\n",
    "    \n",
    "    return x, k-1, fk"
   ]
  },
  {
   "cell_type": "code",
   "execution_count": 149,
   "metadata": {},
   "outputs": [],
   "source": [
    "n = 10**5\n",
    "np.random.seed(288874)\n",
    "x0 = np.random.random(n)*5\n",
    "# x0 = [2, 5]\n",
    "alpha = 0.03\n",
    "kmax = 1000\n",
    "tol = 10**(-6)"
   ]
  },
  {
   "cell_type": "code",
   "execution_count": 150,
   "metadata": {},
   "outputs": [
    {
     "data": {
      "text/plain": [
       "array([0.87672636, 0.09457948, 0.52191602, ..., 2.09480059, 1.48428634,\n",
       "       4.01296899])"
      ]
     },
     "execution_count": 150,
     "metadata": {},
     "output_type": "execute_result"
    }
   ],
   "source": [
    "x0"
   ]
  },
  {
   "cell_type": "code",
   "execution_count": 95,
   "metadata": {},
   "outputs": [],
   "source": [
    "x_seq, k, fk = steep(x0, alpha, kmax, tol)"
   ]
  },
  {
   "cell_type": "code",
   "execution_count": 96,
   "metadata": {},
   "outputs": [
    {
     "data": {
      "text/plain": [
       "-39535.304490182265"
      ]
     },
     "execution_count": 96,
     "metadata": {},
     "output_type": "execute_result"
    }
   ],
   "source": [
    "fk"
   ]
  },
  {
   "cell_type": "code",
   "execution_count": 97,
   "metadata": {
    "scrolled": true
   },
   "outputs": [
    {
     "data": {
      "text/plain": [
       "array([-0.6823278, -0.6823278, -0.6823278, ..., -0.6823278, -0.6823278,\n",
       "       -0.6823278])"
      ]
     },
     "execution_count": 97,
     "metadata": {},
     "output_type": "execute_result"
    }
   ],
   "source": [
    "x_seq[:,k-1]"
   ]
  },
  {
   "cell_type": "code",
   "execution_count": 99,
   "metadata": {},
   "outputs": [
    {
     "data": {
      "text/plain": [
       "array([[ 0.87672636,  0.80020772,  0.73082952, ..., -0.6823278 ,\n",
       "        -0.6823278 , -0.6823278 ],\n",
       "       [ 0.09457948,  0.06171672,  0.02985816, ..., -0.6823278 ,\n",
       "        -0.6823278 , -0.6823278 ],\n",
       "       [ 0.52191602,  0.4719935 ,  0.42467921, ..., -0.6823278 ,\n",
       "        -0.6823278 , -0.6823278 ],\n",
       "       ...,\n",
       "       [ 2.09480059,  1.72618511,  1.49009337, ..., -0.6823278 ,\n",
       "        -0.6823278 , -0.6823278 ],\n",
       "       [ 1.48428634,  1.31165655,  1.17460795, ..., -0.6823278 ,\n",
       "        -0.6823278 , -0.6823278 ],\n",
       "       [ 4.01296899,  1.92384396,  1.62251411, ..., -0.6823278 ,\n",
       "        -0.6823278 , -0.6823278 ]])"
      ]
     },
     "execution_count": 99,
     "metadata": {},
     "output_type": "execute_result"
    }
   ],
   "source": [
    "x_seq"
   ]
  },
  {
   "cell_type": "code",
   "execution_count": 151,
   "metadata": {},
   "outputs": [],
   "source": [
    "def fr(x, kmax, tollgrad, grad_method = 'exact'):\n",
    "    x = np.zeros((len(x0), kmax))\n",
    "    x[:, 0] = x0\n",
    "    \n",
    "    gradf_k = delta_f(x0)\n",
    "        \n",
    "    p_k = -delta_f(x0)\n",
    "    \n",
    "    \n",
    "    delta_fk_norm = np.linalg.norm(delta_f(x0))\n",
    "        \n",
    "    k = 0\n",
    "    while(k < kmax-1 and delta_fk_norm >= tollgrad):\n",
    "        \n",
    "        # Compute dk\n",
    "        d_k = -gradf_k\n",
    "        \n",
    "        # Compute alpha[k]\n",
    "        alpha_k = (gradf_k.T @ gradf_k) / (d_k.T @ (delta2_f(x[:, k]) * d_k)) \n",
    "        \n",
    "        # Our Q matrix is diagonal matrix with shape(10000, 10000). Such matrix requires a lot of storage. \n",
    "        # For this reason I use element-wise multiplication which is fine for our solution.\n",
    "\n",
    "        # Compute the new value for xk\n",
    "        x[:, k+1] = x[:, k] + alpha_k * p_k\n",
    "\n",
    "        # Compute the new value for gradfk\n",
    "        gradf_k1 = delta_f(x[:, k+1])\n",
    "        \n",
    "        # Compute the new value for betak\n",
    "        beta_k1 = (gradf_k1.T @ gradf_k1) / (gradf_k.T @ gradf_k) \n",
    "        \n",
    "        # Compute the new value for pk\n",
    "        p_k = -gradf_k1 + beta_k1 * p_k\n",
    "        \n",
    "        # Compute the gradient of f in xk\n",
    "        delta_fk_norm = np.linalg.norm(delta_f(x[:, k+1]))\n",
    "        \n",
    "        # Increase the step by one\n",
    "        k += 1\n",
    "\n",
    "    # Compute f(xk)\n",
    "    fk = f(x[:, k-1]).sum()\n",
    "\n",
    "    # \"Cut\" xseq to the correct size\n",
    "    x = x[:, :k]\n",
    "    print(alpha_k)\n",
    "    return x, k-1, fk"
   ]
  },
  {
   "cell_type": "code",
   "execution_count": 116,
   "metadata": {
    "scrolled": true
   },
   "outputs": [
    {
     "name": "stdout",
     "output_type": "stream",
     "text": [
      "0.4172290753398313\n"
     ]
    }
   ],
   "source": [
    "x_seq_fr, k_fr, fk_fr = fr(x0, kmax, tol)"
   ]
  },
  {
   "cell_type": "code",
   "execution_count": 117,
   "metadata": {},
   "outputs": [
    {
     "data": {
      "text/plain": [
       "array([-0.68234031, -0.68233874, -0.68234031, ..., -0.68234031,\n",
       "       -0.68234031, -0.68234031])"
      ]
     },
     "execution_count": 117,
     "metadata": {},
     "output_type": "execute_result"
    }
   ],
   "source": [
    "x_seq_fr[:, k_fr]"
   ]
  },
  {
   "cell_type": "code",
   "execution_count": 118,
   "metadata": {},
   "outputs": [
    {
     "data": {
      "text/plain": [
       "-39535.304471643656"
      ]
     },
     "execution_count": 118,
     "metadata": {},
     "output_type": "execute_result"
    }
   ],
   "source": [
    "fk_fr"
   ]
  },
  {
   "cell_type": "code",
   "execution_count": 113,
   "metadata": {},
   "outputs": [
    {
     "data": {
      "text/plain": [
       "7"
      ]
     },
     "execution_count": 113,
     "metadata": {},
     "output_type": "execute_result"
    }
   ],
   "source": [
    "k_fr"
   ]
  },
  {
   "cell_type": "code",
   "execution_count": null,
   "metadata": {},
   "outputs": [],
   "source": []
  },
  {
   "cell_type": "code",
   "execution_count": null,
   "metadata": {},
   "outputs": [],
   "source": []
  },
  {
   "cell_type": "code",
   "execution_count": 124,
   "metadata": {},
   "outputs": [],
   "source": [
    "def pr(x, kmax, tollgrad, grad_method = 'exact'):\n",
    "    x = np.zeros((len(x0), kmax))\n",
    "    x[:, 0] = x0\n",
    "    \n",
    "    gradf_k = delta_f(x0)\n",
    "        \n",
    "    p_k = -delta_f(x0)\n",
    "    \n",
    "    \n",
    "    delta_fk_norm = np.linalg.norm(delta_f(x0))\n",
    "        \n",
    "    k = 0\n",
    "    while(k < kmax-1 and delta_fk_norm >= tollgrad):\n",
    "        \n",
    "        # Compute dk\n",
    "        d_k = -gradf_k\n",
    "        \n",
    "        # Compute alpha[k]\n",
    "        alpha_k = (gradf_k.T @ gradf_k) / (d_k.T @ (delta2_f(x[:, k]) * d_k)) \n",
    "        \n",
    "        # Our Q matrix is diagonal matrix with shape(10000, 10000). Such matrix requires a lot of storage. \n",
    "        # For this reason I use element-wise multiplication which is fine for our solution.\n",
    "\n",
    "        # Compute the new value for xk\n",
    "        x[:, k+1] = x[:, k] + alpha_k * p_k\n",
    "\n",
    "        # Compute the new value for gradfk\n",
    "        gradf_k1 = delta_f(x[:, k+1])\n",
    "        \n",
    "        # Compute the new value for betak\n",
    "        beta_k1 = (gradf_k1.T @ (gradf_k1 - gradf_k)) / (gradf_k.T @ gradf_k) \n",
    "        \n",
    "        # Compute the new value for pk\n",
    "        p_k = -gradf_k1 + beta_k1 * p_k\n",
    "        \n",
    "        # Compute the gradient of f in xk\n",
    "        delta_fk_norm = np.linalg.norm(delta_f(x[:, k+1]))\n",
    "        \n",
    "        # Increase the step by one\n",
    "        k += 1\n",
    "\n",
    "    # Compute f(xk)\n",
    "    fk = f(x[:, k-1]).sum()\n",
    "\n",
    "    # \"Cut\" xseq to the correct size\n",
    "    x = x[:, :k]\n",
    "    print(x[:, k-1])\n",
    "    return x, k-1, fk"
   ]
  },
  {
   "cell_type": "code",
   "execution_count": 30,
   "metadata": {},
   "outputs": [
    {
     "name": "stdout",
     "output_type": "stream",
     "text": [
      "[-0.6823278 -0.6823278 -0.6823278 ... -0.6823278 -0.6823278 -0.6823278]\n"
     ]
    }
   ],
   "source": [
    "x_seq_pr, k_pr, fk_pr = pr(x0, kmax, tol)"
   ]
  },
  {
   "cell_type": "code",
   "execution_count": 27,
   "metadata": {},
   "outputs": [
    {
     "data": {
      "text/plain": [
       "array([[ 0.87672636,  0.83310573,  0.75480019, ..., -0.68834753,\n",
       "        -0.68234025, -0.6823278 ],\n",
       "       [ 0.09457948,  0.07584555,  0.04053627, ..., -0.68375106,\n",
       "        -0.68229948, -0.6823278 ],\n",
       "       [ 0.52191602,  0.49345692,  0.44070077, ..., -0.68572819,\n",
       "        -0.68232016, -0.6823278 ],\n",
       "       ...,\n",
       "       [ 2.09480059,  1.88466564,  1.59153962, ..., -0.68959058,\n",
       "        -0.6823499 , -0.6823278 ],\n",
       "       [ 1.48428634,  1.38587607,  1.22541423, ..., -0.68943525,\n",
       "        -0.68234814, -0.6823278 ],\n",
       "       [ 4.01296899,  2.82203101,  2.31624996, ..., -0.68965958,\n",
       "        -0.68235109, -0.6823278 ]])"
      ]
     },
     "execution_count": 27,
     "metadata": {},
     "output_type": "execute_result"
    }
   ],
   "source": [
    "x_seq_pr"
   ]
  },
  {
   "cell_type": "code",
   "execution_count": 28,
   "metadata": {},
   "outputs": [
    {
     "data": {
      "text/plain": [
       "9"
      ]
     },
     "execution_count": 28,
     "metadata": {},
     "output_type": "execute_result"
    }
   ],
   "source": [
    "k_pr"
   ]
  },
  {
   "cell_type": "code",
   "execution_count": null,
   "metadata": {},
   "outputs": [],
   "source": []
  },
  {
   "cell_type": "code",
   "execution_count": null,
   "metadata": {},
   "outputs": [],
   "source": []
  },
  {
   "cell_type": "code",
   "execution_count": null,
   "metadata": {},
   "outputs": [],
   "source": []
  },
  {
   "cell_type": "code",
   "execution_count": null,
   "metadata": {},
   "outputs": [],
   "source": []
  },
  {
   "cell_type": "code",
   "execution_count": 138,
   "metadata": {},
   "outputs": [],
   "source": [
    "def delta_f(x, method = 'exact', k = 10):\n",
    "    if method == 'exact':\n",
    "        return np.power(x, 3) + x + 1\n",
    "    elif method =='forward':\n",
    "        h = np.zeros(len(x))\n",
    "        for i in range(len(x)):\n",
    "            e_i = np.zeros(len(x))\n",
    "            e_i[i] = 1\n",
    "            h[i] = 10**(-k) * np.linalg.norm(x) * e_i[i]\n",
    "        return (f0(x+h) - f0(x)) / h   \n",
    "    elif method =='backward':\n",
    "        h = np.zeros(len(x))\n",
    "        for i in range(len(x)):\n",
    "            e_i = np.zeros(len(x))\n",
    "            e_i[i] = 1\n",
    "            h[i] = 10**(-k) * np.linalg.norm(x) * e_i[i]\n",
    "        return (f0(x) - f0(x-h)) / h\n",
    "    elif method =='centered':\n",
    "        h = np.zeros(len(x))\n",
    "        for i in range(len(x)):\n",
    "            e_i = np.zeros(len(x))\n",
    "            e_i[i] = 1\n",
    "            h[i] = 10**(-k) * np.linalg.norm(x) * e_i[i]\n",
    "        return (f0(x+h) - f0(x-h)) / (2*h)   "
   ]
  },
  {
   "cell_type": "code",
   "execution_count": 136,
   "metadata": {},
   "outputs": [
    {
     "data": {
      "text/plain": [
       "array([  11,  131, 1011])"
      ]
     },
     "execution_count": 136,
     "metadata": {},
     "output_type": "execute_result"
    }
   ],
   "source": [
    "delta_f(v)"
   ]
  },
  {
   "cell_type": "code",
   "execution_count": 147,
   "metadata": {},
   "outputs": [
    {
     "name": "stdout",
     "output_type": "stream",
     "text": [
      "2 [  11.0258  131.0645 1011.129 ]\n"
     ]
    }
   ],
   "source": [
    "for k in range(2,4,2):\n",
    "    print(k, delta_f(v,method='centered', k=k))"
   ]
  },
  {
   "cell_type": "code",
   "execution_count": 49,
   "metadata": {},
   "outputs": [],
   "source": [
    "a = np.zeros(5)"
   ]
  },
  {
   "cell_type": "code",
   "execution_count": 51,
   "metadata": {},
   "outputs": [],
   "source": [
    "a[2] = 1"
   ]
  },
  {
   "cell_type": "code",
   "execution_count": 52,
   "metadata": {},
   "outputs": [
    {
     "data": {
      "text/plain": [
       "array([0., 0., 1., 0., 0.])"
      ]
     },
     "execution_count": 52,
     "metadata": {},
     "output_type": "execute_result"
    }
   ],
   "source": [
    "a"
   ]
  },
  {
   "cell_type": "code",
   "execution_count": null,
   "metadata": {},
   "outputs": [],
   "source": []
  },
  {
   "cell_type": "code",
   "execution_count": null,
   "metadata": {},
   "outputs": [],
   "source": []
  },
  {
   "cell_type": "code",
   "execution_count": null,
   "metadata": {},
   "outputs": [],
   "source": []
  },
  {
   "cell_type": "code",
   "execution_count": null,
   "metadata": {},
   "outputs": [],
   "source": []
  },
  {
   "cell_type": "code",
   "execution_count": null,
   "metadata": {},
   "outputs": [],
   "source": []
  },
  {
   "cell_type": "code",
   "execution_count": null,
   "metadata": {},
   "outputs": [],
   "source": []
  },
  {
   "cell_type": "code",
   "execution_count": null,
   "metadata": {},
   "outputs": [],
   "source": []
  },
  {
   "cell_type": "code",
   "execution_count": null,
   "metadata": {},
   "outputs": [],
   "source": []
  },
  {
   "cell_type": "code",
   "execution_count": null,
   "metadata": {},
   "outputs": [],
   "source": []
  },
  {
   "cell_type": "code",
   "execution_count": null,
   "metadata": {},
   "outputs": [],
   "source": []
  },
  {
   "cell_type": "code",
   "execution_count": null,
   "metadata": {},
   "outputs": [],
   "source": []
  },
  {
   "cell_type": "code",
   "execution_count": null,
   "metadata": {},
   "outputs": [],
   "source": []
  },
  {
   "cell_type": "code",
   "execution_count": null,
   "metadata": {},
   "outputs": [],
   "source": []
  },
  {
   "cell_type": "code",
   "execution_count": null,
   "metadata": {},
   "outputs": [],
   "source": []
  },
  {
   "cell_type": "code",
   "execution_count": null,
   "metadata": {},
   "outputs": [],
   "source": []
  },
  {
   "cell_type": "code",
   "execution_count": null,
   "metadata": {},
   "outputs": [],
   "source": []
  },
  {
   "cell_type": "code",
   "execution_count": null,
   "metadata": {},
   "outputs": [],
   "source": [
    "def pr_old(x, kmax, tollgrad):\n",
    "    x = np.zeros((len(x0), kmax))\n",
    "    x[:, 0] = x0\n",
    "    \n",
    "    gradf = np.zeros((len(x0), kmax))\n",
    "    gradf[:, 0] = delta_f(x0)\n",
    "        \n",
    "    p = np.zeros((len(x0), kmax))\n",
    "    p[:, 0] = -delta_f(x0)\n",
    "    \n",
    "    d = np.zeros((len(x0), kmax))\n",
    "    alpha = np.zeros(kmax) \n",
    "    beta = np.zeros(kmax)\n",
    "\n",
    "    delta_fk_norm = np.linalg.norm(delta_f(x0))\n",
    "        \n",
    "    k = 0\n",
    "    while(k < kmax-1 and delta_fk_norm >= tollgrad):\n",
    "        \n",
    "        # Compute dk\n",
    "        d[:, k] = -gradf[:, k]\n",
    "        \n",
    "        # Compute alpha[k]\n",
    "#         alpha[k] = (gradf[:, k].T @ gradf[:, k]) / (d[:, k].T @ np.diag(delta2_f(x[:, k])) @ d[:, k]) \n",
    "        alpha[k] = (gradf[:, k].T @ gradf[:, k]) / (d[:, k].T @ (delta2_f(x[:, k]) * d[:, k])) \n",
    "        # Our Q matrix is diagonal matrix with shape(10000, 10000). Such matrix requires a lot of storage. \n",
    "        # For this reason I use element-wise multiplication which is fine for our solution.\n",
    "\n",
    "        # Compute the new value for xk\n",
    "        x[:, k+1] = x[:, k] + alpha[k] * p[:, k]\n",
    "\n",
    "        # Compute the new value for gradfk\n",
    "        gradf[:, k+1] = delta_f(x[:, k+1])\n",
    "        \n",
    "        # Compute the new value for betak\n",
    "        beta[k+1] = (gradf[:, k+1].T @ (gradf[:, k+1] - gradf[:, k])) / (gradf[:, k].T @ gradf[:, k]) \n",
    "        \n",
    "        # Compute the new value for pk\n",
    "        p[:, k+1] = -gradf[:, k+1] + beta[k+1] * p[:, k]\n",
    "        \n",
    "        # Compute the gradient of f in xk\n",
    "        delta_fk_norm = np.linalg.norm(delta_f(x[:, k+1]))\n",
    "        \n",
    "        # Increase the step by one\n",
    "        k += 1\n",
    "\n",
    "    # Compute f(xk)\n",
    "    fk = f(x[:, k-1])\n",
    "\n",
    "    # \"Cut\" xseq to the correct size\n",
    "    x = x[:, :k]\n",
    "    print(alpha[k-1])\n",
    "    return x, k-1, fk"
   ]
  },
  {
   "cell_type": "code",
   "execution_count": null,
   "metadata": {},
   "outputs": [],
   "source": [
    "def fr_copy(x, kmax, tollgrad):\n",
    "    x = np.zeros((len(x0), kmax))\n",
    "    x[:, 0] = x0\n",
    "    \n",
    "    gradf = np.zeros((len(x0), kmax))\n",
    "    gradf[:, 0] = delta_f(x0)\n",
    "        \n",
    "    p = np.zeros((len(x0), kmax))\n",
    "    p[:, 0] = -delta_f(x0)\n",
    "    \n",
    "    d = np.zeros((len(x0), kmax))\n",
    "    alpha = np.zeros(kmax) \n",
    "    beta = np.zeros(kmax)\n",
    "\n",
    "    delta_fk_norm = np.linalg.norm(delta_f(x0))\n",
    "        \n",
    "    k = 0\n",
    "    while(k < kmax-1 and delta_fk_norm >= tollgrad):\n",
    "        \n",
    "        # Compute dk\n",
    "        d[:, k] = -gradf[:, k]\n",
    "        \n",
    "        # Compute alpha[k]\n",
    "        alpha[k] = (gradf[:, k].T @ gradf[:, k]) / (d[:, k].T @ (delta2_f(x[:, k]) * d[:, k])) \n",
    "\n",
    "        # Compute the new value for xk\n",
    "        x[:, k+1] = x[:, k] + alpha[k] * p[:, k]\n",
    "\n",
    "        # Compute the new value for gradfk\n",
    "        gradf[:, k+1] = delta_f(x[:, k+1])\n",
    "        \n",
    "        # Compute the new value for betak\n",
    "        beta[k+1] = (gradf[:, k+1].T @ gradf[:, k+1]) / (gradf[:, k].T @ gradf[:, k]) \n",
    "        \n",
    "        # Compute the new value for pk\n",
    "        p[:, k+1] = -gradf[:, k+1] + beta[k+1] * p[:, k]\n",
    "        \n",
    "        # Compute the gradient of f in xk\n",
    "        delta_fk_norm = np.linalg.norm(delta_f(x[:, k+1]))\n",
    "        \n",
    "        # Increase the step by one\n",
    "        k += 1\n",
    "\n",
    "    # Compute f(xk)\n",
    "    fk = f(x[:, k-1])\n",
    "\n",
    "    # \"Cut\" xseq to the correct size\n",
    "    x = x[:, :k]\n",
    "    print(alpha[k-1])\n",
    "    return x, k-1, fk"
   ]
  },
  {
   "cell_type": "code",
   "execution_count": null,
   "metadata": {},
   "outputs": [],
   "source": []
  }
 ],
 "metadata": {
  "kernelspec": {
   "display_name": "Python 3",
   "language": "python",
   "name": "python3"
  },
  "language_info": {
   "codemirror_mode": {
    "name": "ipython",
    "version": 3
   },
   "file_extension": ".py",
   "mimetype": "text/x-python",
   "name": "python",
   "nbconvert_exporter": "python",
   "pygments_lexer": "ipython3",
   "version": "3.7.6"
  }
 },
 "nbformat": 4,
 "nbformat_minor": 4
}
