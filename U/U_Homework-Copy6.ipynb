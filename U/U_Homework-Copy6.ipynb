{
 "cells": [
  {
   "cell_type": "code",
   "execution_count": 2,
   "metadata": {},
   "outputs": [],
   "source": [
    "import numpy as np"
   ]
  },
  {
   "cell_type": "code",
   "execution_count": 26,
   "metadata": {},
   "outputs": [],
   "source": [
    "def f(x):\n",
    "    f = np.zeros(len(x))\n",
    "    for i in range(len(x)):\n",
    "        f[i] = np.power(x[i], 4)/4 + np.power(x[i], 2)/2 + x[i]\n",
    "    return f\n",
    "\n",
    "def delta_f(x, method = 'exact', k = 10):\n",
    "    if method == 'exact':\n",
    "        return np.power(x, 3) + x + 1\n",
    "    elif method =='forward':\n",
    "        h = np.zeros(len(x))\n",
    "        for i in range(len(x)):\n",
    "            e = np.zeros(len(x))\n",
    "            e[i] = 1\n",
    "            h[i] = 10**(-k) * np.linalg.norm(x) * e[i]\n",
    "        return (f(x+h) - f(x)) / h   \n",
    "    elif method =='backward':\n",
    "        h = np.zeros(len(x))\n",
    "        for i in range(len(x)):\n",
    "            e = np.zeros(len(x))\n",
    "            e[i] = 1\n",
    "            h[i] = 10**(-k) * np.linalg.norm(x) * e[i]\n",
    "        return (f(x) - f(x-h)) / h\n",
    "    elif method =='centered':\n",
    "        h = np.zeros(len(x))\n",
    "        for i in range(len(x)):\n",
    "            e = np.zeros(len(x))\n",
    "            e[i] = 1\n",
    "            h[i] = 10**(-k) * np.linalg.norm(x) * e[i]\n",
    "        return (f(x+h) - f(x-h)) / (2*h)      \n",
    "\n",
    "def delta2_f(x):\n",
    "    return 3 * np.power(x, 2) + 1"
   ]
  },
  {
   "cell_type": "code",
   "execution_count": 140,
   "metadata": {},
   "outputs": [],
   "source": [
    "def steepest_descent(x0, kmax, tollgrad, descent_method = 'steepest', alpha = 2, grad_method = 'exact'):\n",
    "    x = np.zeros((len(x0), kmax))\n",
    "    x[:, 0] = x0\n",
    "    \n",
    "    p_k = -delta_f(x0)\n",
    "    \n",
    "    delta_fk_norm = np.linalg.norm(delta_f(x0))\n",
    "    \n",
    "    k = 0\n",
    "    \n",
    "    # constants for line search algorithm\n",
    "    rho = 0.5\n",
    "    jmax = 100\n",
    "    c1_arm = 10**(-4)\n",
    "    c1_wol = c1_arm\n",
    "    c2_wol = 0.4\n",
    "    \n",
    "    if descent_method == 'steepest':\n",
    "        while(k < kmax-1 and delta_fk_norm >= tollgrad):\n",
    "\n",
    "            # Find alpha using line search(backtracking method)\n",
    "            j = 0\n",
    "            while j < jmax and (f(x[:, k] + alpha * p_k) > farmijo(x[:, k], alpha, p_k, c1=c1_arm)).all():\n",
    "                alpha = alpha * rho\n",
    "                j+=1\n",
    "                \n",
    "            # Compute the new value for xk\n",
    "            x[:, k+1] = x[:, k] + alpha * p_k\n",
    "\n",
    "            p_k = -delta_f(x[:, k+1])\n",
    "\n",
    "            # Compute the gradient of f in xk\n",
    "            delta_fk_norm = np.linalg.norm(delta_f(x[:, k+1]))\n",
    "\n",
    "            # Increase the step by one\n",
    "            k += 1\n",
    "    elif descent_method == 'fr':\n",
    "        gradf_k = delta_f(x0)\n",
    "        alpha_k = alpha\n",
    "        while(k < kmax-1 and delta_fk_norm >= tollgrad):\n",
    "\n",
    "            # Compute dk\n",
    "            d_k = -gradf_k\n",
    "            \n",
    "            \n",
    "            #TODO: Choose one method for finding alpha\n",
    "            \n",
    "            # Find alpha using line search(backtracking method)\n",
    "            j = 0\n",
    "            while (j < jmax and \n",
    "                (f(x[:, k] + alpha_k * p_k) > farmijo(x[:, k], alpha_k, p_k, c1=c1_wol)).all() and \n",
    "                (np.abs(delta_f(x[:, k] + alpha_k * p_k).T * p_k) > c2_wol * np.abs(delta_f(x[:, k]).T * p_k)).all()):\n",
    "                \n",
    "                alpha_k = alpha_k * rho\n",
    "                j+=1\n",
    "                    \n",
    "            # Compute alpha[k]\n",
    "#             alpha_k = (gradf_k.T @ gradf_k) / (d_k.T @ (delta2_f(x[:, k]) * d_k)) \n",
    "\n",
    "            # Our Q matrix is diagonal matrix with shape(10000, 10000). Such matrix requires a lot of storage. \n",
    "            # For this reason I use element-wise multiplication which is fine for our solution.\n",
    "\n",
    "            # Compute the new value for xk\n",
    "            x[:, k+1] = x[:, k] + alpha_k * p_k\n",
    "\n",
    "            # Compute the new value for gradfk\n",
    "            gradf_k1 = delta_f(x[:, k+1])\n",
    "\n",
    "            # Compute the new value for betak\n",
    "            beta_k1 = (gradf_k1.T @ gradf_k1) / (gradf_k.T @ gradf_k) \n",
    "\n",
    "            # Compute the new value for pk\n",
    "            p_k = -gradf_k1 + beta_k1 * p_k\n",
    "\n",
    "            # Compute the gradient of f in xk\n",
    "            delta_fk_norm = np.linalg.norm(delta_f(x[:, k+1]))\n",
    "\n",
    "            # Increase the step by one\n",
    "            k += 1\n",
    "    elif descent_method == 'pr':\n",
    "        gradf_k = delta_f(x0)\n",
    "        alpha_k = alpha\n",
    "        while(k < kmax-1 and delta_fk_norm >= tollgrad):\n",
    "\n",
    "            # Compute dk\n",
    "            d_k = -gradf_k\n",
    "\n",
    "            #TODO: Choose one method for finding alpha\n",
    "            \n",
    "            # Find alpha using line search(backtracking method)\n",
    "            j = 0\n",
    "            while (j < jmax and \n",
    "                (f(x[:, k] + alpha_k * p_k) > farmijo(x[:, k], alpha_k, p_k, c1=c1_wol)).all() and \n",
    "                (np.abs(delta_f(x[:, k] + alpha_k * p_k).T * p_k) > c2_wol * np.abs(delta_f(x[:, k]).T * p_k)).all()):\n",
    "\n",
    "                alpha_k = alpha_k * rho\n",
    "                j+=1\n",
    "            \n",
    "            # Compute alpha[k]\n",
    "#             alpha_k = (gradf_k.T @ gradf_k) / (d_k.T @ (delta2_f(x[:, k]) * d_k)) \n",
    "\n",
    "            # Our Q matrix is diagonal matrix with shape(10000, 10000). Such matrix requires a lot of storage. \n",
    "            # For this reason I use element-wise multiplication which is fine for our solution.\n",
    "\n",
    "            # Compute the new value for xk\n",
    "            x[:, k+1] = x[:, k] + alpha_k * p_k\n",
    "\n",
    "            # Compute the new value for gradfk\n",
    "            gradf_k1 = delta_f(x[:, k+1])\n",
    "\n",
    "            # Compute the new value for betak\n",
    "            beta_k1 = (gradf_k1.T @ (gradf_k1 - gradf_k)) / (gradf_k.T @ gradf_k) \n",
    "\n",
    "            # Compute the new value for pk\n",
    "            p_k = -gradf_k1 + beta_k1 * p_k\n",
    "\n",
    "            # Compute the gradient of f in xk\n",
    "            delta_fk_norm = np.linalg.norm(delta_f(x[:, k+1]))\n",
    "\n",
    "            # Increase the step by one\n",
    "            k += 1\n",
    "\n",
    "    # Compute f(xk)\n",
    "    fk = f(x[:, k-1]).sum()\n",
    "\n",
    "    # \"Cut\" xseq to the correct size and return\n",
    "    return x[:, :k], k-1, fk"
   ]
  },
  {
   "attachments": {
    "image.png": {
     "image/png": "[encoded data removed]"
    }
   },
   "cell_type": "markdown",
   "metadata": {},
   "source": [
    "![image.png](attachment:image.png)"
   ]
  },
  {
   "attachments": {
    "image.png": {
     "image/png": "[encoded data removed]"
    }
   },
   "cell_type": "markdown",
   "metadata": {},
   "source": [
    "![image.png](attachment:image.png)"
   ]
  },
  {
   "cell_type": "code",
   "execution_count": 129,
   "metadata": {},
   "outputs": [],
   "source": [
    "def farmijo(x, alpha, p, c1 = 10**(-4)):\n",
    "    return f(x) + c1 * alpha * delta_f(x).T @ p\n",
    "\n"
   ]
  },
  {
   "cell_type": "code",
   "execution_count": 117,
   "metadata": {},
   "outputs": [],
   "source": [
    "n = 10**4\n",
    "np.random.seed(288874)\n",
    "x0 = np.random.random(n)\n",
    "# x0 = [2, 5]\n",
    "alpha = 3\n",
    "kmax = 1000\n",
    "tol = 10**(-6)"
   ]
  },
  {
   "cell_type": "code",
   "execution_count": 141,
   "metadata": {},
   "outputs": [
    {
     "data": {
      "text/plain": [
       "(array([[ 0.17534527, -0.26743089, -0.40120139, ..., -0.68232779,\n",
       "         -0.6823278 , -0.6823278 ],\n",
       "        [ 0.0189159 , -0.3631801 , -0.47360195, ..., -0.6823278 ,\n",
       "         -0.6823278 , -0.6823278 ],\n",
       "        [ 0.1043832 , -0.310187  , -0.43393101, ..., -0.68232779,\n",
       "         -0.6823278 , -0.6823278 ],\n",
       "        ...,\n",
       "        [ 0.22335622, -0.23958091, -0.37958104, ..., -0.68232779,\n",
       "         -0.6823278 , -0.6823278 ],\n",
       "        [ 0.25602203, -0.22127931, -0.36525791, ..., -0.68232779,\n",
       "         -0.6823278 , -0.6823278 ],\n",
       "        [ 0.69188438, -0.06677519, -0.24169902, ..., -0.68232778,\n",
       "         -0.68232779, -0.6823278 ]]),\n",
       " 33,\n",
       " -3953.530449018225)"
      ]
     },
     "execution_count": 141,
     "metadata": {},
     "output_type": "execute_result"
    }
   ],
   "source": [
    "steepest_descent(x0,  kmax, tol, alpha= alpha)"
   ]
  },
  {
   "cell_type": "code",
   "execution_count": 142,
   "metadata": {},
   "outputs": [
    {
     "data": {
      "text/plain": [
       "(array([[ 0.17534527, -0.41502294, -0.72951445, ..., -0.6823279 ,\n",
       "         -0.68232778, -0.68232781],\n",
       "        [ 0.0189159 , -0.49054544, -0.73608342, ..., -0.68232793,\n",
       "         -0.68232778, -0.68232781],\n",
       "        [ 0.1043832 , -0.44837707, -0.73318428, ..., -0.68232792,\n",
       "         -0.68232778, -0.68232781],\n",
       "        ...,\n",
       "        [ 0.22335622, -0.39389329, -0.72676492, ..., -0.68232789,\n",
       "         -0.68232779, -0.68232781],\n",
       "        [ 0.25602203, -0.38037976, -0.72491981, ..., -0.68232788,\n",
       "         -0.68232779, -0.68232781],\n",
       "        [ 0.69188438, -0.31966172, -0.74244096, ..., -0.68232793,\n",
       "         -0.68232778, -0.68232781]]),\n",
       " 12,\n",
       " -3953.5304490182243)"
      ]
     },
     "execution_count": 142,
     "metadata": {},
     "output_type": "execute_result"
    }
   ],
   "source": [
    "steepest_descent(x0,  kmax, tol,descent_method = 'fr')"
   ]
  },
  {
   "cell_type": "code",
   "execution_count": 143,
   "metadata": {},
   "outputs": [
    {
     "data": {
      "text/plain": [
       "(array([[ 0.17534527, -0.41502294, -0.55508649, ..., -0.68232782,\n",
       "         -0.6823278 , -0.6823278 ],\n",
       "        [ 0.0189159 , -0.49054544, -0.58555991, ..., -0.68232776,\n",
       "         -0.68232781, -0.6823278 ],\n",
       "        [ 0.1043832 , -0.44837707, -0.56986782, ..., -0.6823278 ,\n",
       "         -0.6823278 , -0.6823278 ],\n",
       "        ...,\n",
       "        [ 0.22335622, -0.39389329, -0.54439472, ..., -0.68232784,\n",
       "         -0.6823278 , -0.68232781],\n",
       "        [ 0.25602203, -0.38037976, -0.53689095, ..., -0.68232784,\n",
       "         -0.6823278 , -0.68232781],\n",
       "        [ 0.69188438, -0.31966172, -0.44357339, ..., -0.6823278 ,\n",
       "         -0.6823278 , -0.6823278 ]]),\n",
       " 12,\n",
       " -3953.530449018225)"
      ]
     },
     "execution_count": 143,
     "metadata": {},
     "output_type": "execute_result"
    }
   ],
   "source": [
    "steepest_descent(x0,  kmax, tol,descent_method='pr')"
   ]
  },
  {
   "cell_type": "code",
   "execution_count": 71,
   "metadata": {},
   "outputs": [],
   "source": [
    "x_seq, k, fk = steepest_descent(x0,  kmax, tol, alpha = alpha)"
   ]
  },
  {
   "cell_type": "code",
   "execution_count": 96,
   "metadata": {},
   "outputs": [
    {
     "data": {
      "text/plain": [
       "-39535.304490182265"
      ]
     },
     "execution_count": 96,
     "metadata": {},
     "output_type": "execute_result"
    }
   ],
   "source": [
    "fk"
   ]
  },
  {
   "cell_type": "code",
   "execution_count": 162,
   "metadata": {
    "scrolled": true
   },
   "outputs": [
    {
     "data": {
      "text/plain": [
       "array([-0.6823278, -0.6823278, -0.6823278, ..., -0.6823278, -0.6823278,\n",
       "       -0.6823278])"
      ]
     },
     "execution_count": 162,
     "metadata": {},
     "output_type": "execute_result"
    }
   ],
   "source": [
    "x_seq[:,k-1]"
   ]
  },
  {
   "cell_type": "code",
   "execution_count": 99,
   "metadata": {},
   "outputs": [
    {
     "data": {
      "text/plain": [
       "array([[ 0.87672636,  0.80020772,  0.73082952, ..., -0.6823278 ,\n",
       "        -0.6823278 , -0.6823278 ],\n",
       "       [ 0.09457948,  0.06171672,  0.02985816, ..., -0.6823278 ,\n",
       "        -0.6823278 , -0.6823278 ],\n",
       "       [ 0.52191602,  0.4719935 ,  0.42467921, ..., -0.6823278 ,\n",
       "        -0.6823278 , -0.6823278 ],\n",
       "       ...,\n",
       "       [ 2.09480059,  1.72618511,  1.49009337, ..., -0.6823278 ,\n",
       "        -0.6823278 , -0.6823278 ],\n",
       "       [ 1.48428634,  1.31165655,  1.17460795, ..., -0.6823278 ,\n",
       "        -0.6823278 , -0.6823278 ],\n",
       "       [ 4.01296899,  1.92384396,  1.62251411, ..., -0.6823278 ,\n",
       "        -0.6823278 , -0.6823278 ]])"
      ]
     },
     "execution_count": 99,
     "metadata": {},
     "output_type": "execute_result"
    }
   ],
   "source": [
    "x_seq"
   ]
  },
  {
   "cell_type": "code",
   "execution_count": 151,
   "metadata": {},
   "outputs": [],
   "source": []
  },
  {
   "cell_type": "code",
   "execution_count": 116,
   "metadata": {
    "scrolled": true
   },
   "outputs": [
    {
     "name": "stdout",
     "output_type": "stream",
     "text": [
      "0.4172290753398313\n"
     ]
    }
   ],
   "source": [
    "x_seq_fr, k_fr, fk_fr = fr(x0, kmax, tol)"
   ]
  },
  {
   "cell_type": "code",
   "execution_count": 117,
   "metadata": {},
   "outputs": [
    {
     "data": {
      "text/plain": [
       "array([-0.68234031, -0.68233874, -0.68234031, ..., -0.68234031,\n",
       "       -0.68234031, -0.68234031])"
      ]
     },
     "execution_count": 117,
     "metadata": {},
     "output_type": "execute_result"
    }
   ],
   "source": [
    "x_seq_fr[:, k_fr]"
   ]
  },
  {
   "cell_type": "code",
   "execution_count": 118,
   "metadata": {},
   "outputs": [
    {
     "data": {
      "text/plain": [
       "-39535.304471643656"
      ]
     },
     "execution_count": 118,
     "metadata": {},
     "output_type": "execute_result"
    }
   ],
   "source": [
    "fk_fr"
   ]
  },
  {
   "cell_type": "code",
   "execution_count": 113,
   "metadata": {
    "scrolled": true
   },
   "outputs": [
    {
     "data": {
      "text/plain": [
       "7"
      ]
     },
     "execution_count": 113,
     "metadata": {},
     "output_type": "execute_result"
    }
   ],
   "source": [
    "k_fr"
   ]
  },
  {
   "cell_type": "code",
   "execution_count": null,
   "metadata": {},
   "outputs": [],
   "source": []
  },
  {
   "cell_type": "code",
   "execution_count": null,
   "metadata": {},
   "outputs": [],
   "source": []
  },
  {
   "cell_type": "code",
   "execution_count": 124,
   "metadata": {},
   "outputs": [],
   "source": []
  },
  {
   "cell_type": "code",
   "execution_count": 30,
   "metadata": {},
   "outputs": [
    {
     "name": "stdout",
     "output_type": "stream",
     "text": [
      "[-0.6823278 -0.6823278 -0.6823278 ... -0.6823278 -0.6823278 -0.6823278]\n"
     ]
    }
   ],
   "source": [
    "x_seq_pr, k_pr, fk_pr = pr(x0, kmax, tol)"
   ]
  },
  {
   "cell_type": "code",
   "execution_count": 27,
   "metadata": {},
   "outputs": [
    {
     "data": {
      "text/plain": [
       "array([[ 0.87672636,  0.83310573,  0.75480019, ..., -0.68834753,\n",
       "        -0.68234025, -0.6823278 ],\n",
       "       [ 0.09457948,  0.07584555,  0.04053627, ..., -0.68375106,\n",
       "        -0.68229948, -0.6823278 ],\n",
       "       [ 0.52191602,  0.49345692,  0.44070077, ..., -0.68572819,\n",
       "        -0.68232016, -0.6823278 ],\n",
       "       ...,\n",
       "       [ 2.09480059,  1.88466564,  1.59153962, ..., -0.68959058,\n",
       "        -0.6823499 , -0.6823278 ],\n",
       "       [ 1.48428634,  1.38587607,  1.22541423, ..., -0.68943525,\n",
       "        -0.68234814, -0.6823278 ],\n",
       "       [ 4.01296899,  2.82203101,  2.31624996, ..., -0.68965958,\n",
       "        -0.68235109, -0.6823278 ]])"
      ]
     },
     "execution_count": 27,
     "metadata": {},
     "output_type": "execute_result"
    }
   ],
   "source": [
    "x_seq_pr"
   ]
  },
  {
   "cell_type": "code",
   "execution_count": 28,
   "metadata": {},
   "outputs": [
    {
     "data": {
      "text/plain": [
       "9"
      ]
     },
     "execution_count": 28,
     "metadata": {},
     "output_type": "execute_result"
    }
   ],
   "source": [
    "k_pr"
   ]
  },
  {
   "cell_type": "code",
   "execution_count": null,
   "metadata": {},
   "outputs": [],
   "source": []
  },
  {
   "cell_type": "code",
   "execution_count": null,
   "metadata": {},
   "outputs": [],
   "source": []
  },
  {
   "cell_type": "code",
   "execution_count": null,
   "metadata": {},
   "outputs": [],
   "source": []
  },
  {
   "cell_type": "code",
   "execution_count": null,
   "metadata": {},
   "outputs": [],
   "source": []
  },
  {
   "cell_type": "code",
   "execution_count": 5,
   "metadata": {},
   "outputs": [],
   "source": [
    "v = [2, 4, 10]"
   ]
  },
  {
   "cell_type": "code",
   "execution_count": 7,
   "metadata": {},
   "outputs": [
    {
     "data": {
      "text/plain": [
       "array([1091.00040356, 1091.00040356, 1091.00040356])"
      ]
     },
     "execution_count": 7,
     "metadata": {},
     "output_type": "execute_result"
    }
   ],
   "source": [
    "delta_f(v, method='forward')"
   ]
  },
  {
   "cell_type": "code",
   "execution_count": 6,
   "metadata": {},
   "outputs": [
    {
     "data": {
      "text/plain": [
       "array([  11,   69, 1011])"
      ]
     },
     "execution_count": 6,
     "metadata": {},
     "output_type": "execute_result"
    }
   ],
   "source": [
    "delta_f(v)"
   ]
  },
  {
   "cell_type": "code",
   "execution_count": 147,
   "metadata": {},
   "outputs": [
    {
     "name": "stdout",
     "output_type": "stream",
     "text": [
      "2 [  11.0258  131.0645 1011.129 ]\n"
     ]
    }
   ],
   "source": [
    "for k in range(2,4,2):\n",
    "    print(k, delta_f(v,method='centered', k=k))"
   ]
  },
  {
   "cell_type": "code",
   "execution_count": 49,
   "metadata": {},
   "outputs": [],
   "source": [
    "a = np.zeros(5)"
   ]
  },
  {
   "cell_type": "code",
   "execution_count": 51,
   "metadata": {},
   "outputs": [],
   "source": [
    "a[2] = 1"
   ]
  },
  {
   "cell_type": "code",
   "execution_count": 52,
   "metadata": {},
   "outputs": [
    {
     "data": {
      "text/plain": [
       "array([0., 0., 1., 0., 0.])"
      ]
     },
     "execution_count": 52,
     "metadata": {},
     "output_type": "execute_result"
    }
   ],
   "source": [
    "a"
   ]
  },
  {
   "cell_type": "code",
   "execution_count": null,
   "metadata": {},
   "outputs": [],
   "source": []
  },
  {
   "cell_type": "code",
   "execution_count": null,
   "metadata": {},
   "outputs": [],
   "source": []
  },
  {
   "cell_type": "code",
   "execution_count": null,
   "metadata": {},
   "outputs": [],
   "source": []
  },
  {
   "cell_type": "code",
   "execution_count": null,
   "metadata": {},
   "outputs": [],
   "source": []
  },
  {
   "cell_type": "code",
   "execution_count": 47,
   "metadata": {},
   "outputs": [],
   "source": []
  },
  {
   "cell_type": "code",
   "execution_count": null,
   "metadata": {},
   "outputs": [],
   "source": [
    "while (bt< btmax and (fnew>farmijo(fk, alpha, xk, pk, gradf, c1)).all()):\n",
    "    alpha = rho * alpha\n",
    "    xnew = xk + alpha*pk\n",
    "    fnew = f(xnew)\n",
    "    bt = bt+1 "
   ]
  },
  {
   "cell_type": "code",
   "execution_count": 85,
   "metadata": {},
   "outputs": [],
   "source": [
    "def steep(x0, kmax, tollgrad, descent_method = 'steepest', alpha = 0.2, grad_method = 'exact'):\n",
    "    x = np.zeros((len(x0), kmax))\n",
    "    x[:, 0] = x0\n",
    "    \n",
    "    p_k = -delta_f(x0)\n",
    "    \n",
    "    delta_fk_norm = np.linalg.norm(delta_f(x0))\n",
    "    \n",
    "    k = 0\n",
    "    \n",
    "    rho = 0.5\n",
    "    \n",
    "    while(k < kmax-1 and delta_fk_norm >= tollgrad):\n",
    "\n",
    "        j = 0\n",
    "        jmax = 100\n",
    "        while j < jmax and (f(x[:, k] + alpha * p_k) > farmijo(x[:, k], alpha, p_k)).all():\n",
    "            alpha = alpha * rho\n",
    "            j+=1\n",
    "        print(j, alpha)\n",
    "        \n",
    "        # Compute the new value for xk\n",
    "        x[:, k+1] = x[:, k] + alpha * p_k\n",
    "\n",
    "        \n",
    "        p_k = -delta_f(x[:, k+1])\n",
    "\n",
    "        # Compute the gradient of f in xk\n",
    "        delta_fk_norm = np.linalg.norm(delta_f(x[:, k+1]))\n",
    "\n",
    "        # Increase the step by one\n",
    "        k += 1\n",
    "   \n",
    "    # Compute f(xk)\n",
    "    fk = f(x[:, k-1]).sum()\n",
    "\n",
    "    # \"Cut\" xseq to the correct size and return\n",
    "    return x[:, :k], k-1, fk"
   ]
  },
  {
   "cell_type": "code",
   "execution_count": 86,
   "metadata": {},
   "outputs": [
    {
     "data": {
      "text/plain": [
       "(array([[ 0.17534527, -0.17887566, -0.42349594, ..., -0.68232777,\n",
       "         -0.68232779, -0.6823278 ],\n",
       "        [ 0.0189159 , -0.2867609 , -0.49365837, ..., -0.68232778,\n",
       "         -0.6823278 , -0.6823278 ],\n",
       "        [ 0.1043832 , -0.22727296, -0.45556927, ..., -0.68232777,\n",
       "         -0.6823278 , -0.6823278 ],\n",
       "        ...,\n",
       "        [ 0.22335622, -0.14699348, -0.40194261, ..., -0.68232776,\n",
       "         -0.68232779, -0.6823278 ],\n",
       "        [ 0.25602203, -0.12581904, -0.3874758 , ..., -0.68232776,\n",
       "         -0.68232779, -0.6823278 ],\n",
       "        [ 0.69188438,  0.08495672, -0.24071425, ..., -0.68232771,\n",
       "         -0.68232778, -0.6823278 ]]),\n",
       " 17,\n",
       " -3953.530449018225)"
      ]
     },
     "execution_count": 86,
     "metadata": {},
     "output_type": "execute_result"
    }
   ],
   "source": [
    "steepest_descent(x0, kmax, tol, alpha=0.3)"
   ]
  },
  {
   "cell_type": "code",
   "execution_count": 101,
   "metadata": {},
   "outputs": [
    {
     "name": "stdout",
     "output_type": "stream",
     "text": [
      "2 0.75\n",
      "0 0.75\n",
      "0 0.75\n",
      "0 0.75\n",
      "0 0.75\n",
      "0 0.75\n",
      "0 0.75\n",
      "0 0.75\n",
      "0 0.75\n",
      "0 0.75\n",
      "0 0.75\n",
      "0 0.75\n",
      "0 0.75\n",
      "0 0.75\n",
      "0 0.75\n",
      "0 0.75\n",
      "0 0.75\n",
      "0 0.75\n",
      "0 0.75\n",
      "0 0.75\n",
      "0 0.75\n",
      "0 0.75\n",
      "0 0.75\n",
      "0 0.75\n",
      "0 0.75\n",
      "0 0.75\n",
      "0 0.75\n",
      "0 0.75\n",
      "0 0.75\n",
      "0 0.75\n",
      "0 0.75\n",
      "0 0.75\n",
      "0 0.75\n",
      "0 0.75\n",
      "0 0.75\n",
      "0 0.75\n",
      "0 0.75\n",
      "0 0.75\n",
      "0 0.75\n",
      "0 0.75\n",
      "0 0.75\n",
      "0 0.75\n",
      "0 0.75\n",
      "0 0.75\n",
      "0 0.75\n",
      "0 0.75\n",
      "0 0.75\n",
      "0 0.75\n",
      "0 0.75\n",
      "0 0.75\n",
      "0 0.75\n",
      "0 0.75\n",
      "0 0.75\n",
      "0 0.75\n",
      "0 0.75\n",
      "0 0.75\n",
      "0 0.75\n",
      "0 0.75\n",
      "0 0.75\n",
      "0 0.75\n",
      "0 0.75\n",
      "0 0.75\n",
      "0 0.75\n",
      "0 0.75\n",
      "0 0.75\n",
      "0 0.75\n",
      "0 0.75\n",
      "0 0.75\n",
      "0 0.75\n",
      "0 0.75\n",
      "0 0.75\n",
      "0 0.75\n",
      "0 0.75\n",
      "0 0.75\n",
      "0 0.75\n",
      "0 0.75\n"
     ]
    },
    {
     "data": {
      "text/plain": [
       "75"
      ]
     },
     "execution_count": 101,
     "metadata": {},
     "output_type": "execute_result"
    }
   ],
   "source": [
    "steep(x0, kmax, tol, alpha = 3)[1]"
   ]
  },
  {
   "cell_type": "code",
   "execution_count": null,
   "metadata": {},
   "outputs": [],
   "source": []
  },
  {
   "cell_type": "code",
   "execution_count": null,
   "metadata": {},
   "outputs": [],
   "source": []
  },
  {
   "cell_type": "code",
   "execution_count": null,
   "metadata": {},
   "outputs": [],
   "source": []
  },
  {
   "cell_type": "code",
   "execution_count": null,
   "metadata": {},
   "outputs": [],
   "source": []
  },
  {
   "cell_type": "code",
   "execution_count": null,
   "metadata": {},
   "outputs": [],
   "source": []
  },
  {
   "cell_type": "code",
   "execution_count": null,
   "metadata": {},
   "outputs": [],
   "source": []
  },
  {
   "cell_type": "code",
   "execution_count": null,
   "metadata": {},
   "outputs": [],
   "source": []
  }
 ],
 "metadata": {
  "kernelspec": {
   "display_name": "Python 3",
   "language": "python",
   "name": "python3"
  },
  "language_info": {
   "codemirror_mode": {
    "name": "ipython",
    "version": 3
   },
   "file_extension": ".py",
   "mimetype": "text/x-python",
   "name": "python",
   "nbconvert_exporter": "python",
   "pygments_lexer": "ipython3",
   "version": "3.7.6"
  }
 },
 "nbformat": 4,
 "nbformat_minor": 4
}
