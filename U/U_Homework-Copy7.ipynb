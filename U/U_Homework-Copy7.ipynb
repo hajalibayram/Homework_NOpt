{
 "cells": [
  {
   "cell_type": "code",
   "execution_count": 1,
   "metadata": {},
   "outputs": [],
   "source": [
    "import numpy as np\n",
    "import time\n",
    "\n",
    "import matplotlib.pyplot as plt"
   ]
  },
  {
   "cell_type": "markdown",
   "metadata": {},
   "source": [
    "$\\frac{1}{4}x_i^{4} + \\frac{1}{2}x_i^{2} +x_i$"
   ]
  },
  {
   "cell_type": "code",
   "execution_count": 59,
   "metadata": {},
   "outputs": [],
   "source": [
    "def f(x):\n",
    "    '''\n",
    "    1/4 * x^4 + 1/2 * x^2 + x \n",
    "    '''\n",
    "    f = np.zeros(len(x))\n",
    "    for i in range(len(x)):\n",
    "        f[i] = np.power(x[i], 4)/4 + np.power(x[i], 2)/2 + x[i]\n",
    "    return f\n",
    "\n",
    "def delta_f(x, method = 'e', k = 10):\n",
    "    '''\n",
    "    method:\n",
    "        e : exact gradient function,\n",
    "        f : forward differences,\n",
    "        b : backward differences,\n",
    "        c : centered differences\n",
    "    \n",
    "    k : value for increment h; is ignored when method='e'\n",
    "    \n",
    "    Exact gradient function:\n",
    "        x^3 + x + 1 \n",
    "    \n",
    "    Forward differences:\n",
    "        (f(x+h) - f(x)) / h\n",
    "\n",
    "    Backward differences:\n",
    "        (f(x) - f(x-h)) / h\n",
    "\n",
    "    Centered differences:\n",
    "        (f(x+h) - f(x-h)) / 2h\n",
    "    \n",
    "    where h = 10^-k norm(x)\n",
    "    '''\n",
    "    \n",
    "    if method == 'e': \n",
    "        return np.power(x, 3) + x + 1\n",
    "    elif method =='f':\n",
    "        h = np.ones(len(x)) * 10**(-k) * np.linalg.norm(x)\n",
    "        return (f(x+h) - f(x)) / h   \n",
    "    elif method =='b':\n",
    "        h = np.ones(len(x)) * 10**(-k) * np.linalg.norm(x)\n",
    "        return (f(x) - f(x-h)) / h\n",
    "    elif method =='c':\n",
    "        h = np.ones(len(x)) * 10**(-k) * np.linalg.norm(x)\n",
    "        return (f(x+h) - f(x-h)) / (2*h)      \n",
    "\n",
    "def delta2_f(x):\n",
    "    return 3 * np.power(x, 2) + 1"
   ]
  },
  {
   "cell_type": "code",
   "execution_count": null,
   "metadata": {},
   "outputs": [],
   "source": [
    "f()"
   ]
  },
  {
   "cell_type": "code",
   "execution_count": null,
   "metadata": {},
   "outputs": [],
   "source": []
  },
  {
   "cell_type": "code",
   "execution_count": 54,
   "metadata": {},
   "outputs": [],
   "source": [
    "def steepest_descent(x0, kmax, tollgrad, descent_method = 'steepest', alpha = 0.31, grad_method = 'e', grad_method_k = 10):\n",
    "    x = np.zeros((len(x0), kmax+1)) # kmax+1 because we need to also consider x[k+1] case later on\n",
    "    x[:, 0] = x0\n",
    "    \n",
    "    p_k = -delta_f(x0, method = grad_method, k = grad_method_k)\n",
    "    \n",
    "    delta_fk_norm = np.linalg.norm(delta_f(x0, method = grad_method, k = grad_method_k))\n",
    "    \n",
    "    alpha_k = alpha\n",
    "    k = 0\n",
    "    \n",
    "    # constants for line search algorithm\n",
    "    rho = 0.45\n",
    "    jmax = 30\n",
    "    c1_arm = 10**(-4)\n",
    "    c2_wol = 0.1\n",
    "    \n",
    "    s = time.time()\n",
    "    if descent_method == 'steepest':\n",
    "        while(k < kmax and delta_fk_norm >= tollgrad):\n",
    "\n",
    "            # Find alpha using line search(backtracking method)\n",
    "            j = 0\n",
    "            while (j < jmax and\n",
    "                   f(x[:, k] + alpha_k * p_k).sum() > f(x[:, k]).sum() + c1_arm * alpha_k * delta_f(x[:, k], method = grad_method, k = grad_method_k).T @ p_k):\n",
    "                alpha_k = alpha_k * rho\n",
    "                j+=1\n",
    "#                 print(j, alpha_k)\n",
    "\n",
    "            # Compute the new value for xk\n",
    "            x[:, k+1] = x[:, k] + alpha_k * p_k\n",
    "\n",
    "            p_k = -delta_f(x[:, k+1], method = grad_method, k = grad_method_k)\n",
    "\n",
    "            # Compute the gradient of f in xk\n",
    "            delta_fk_norm = np.linalg.norm(delta_f(x[:, k+1], method = grad_method, k = grad_method_k))\n",
    "\n",
    "            # Increase the step by one\n",
    "            k += 1\n",
    "            \n",
    "#             print(f\"k:{k}, {x[:, k]}\")\n",
    "\n",
    "    elif descent_method == 'fr':\n",
    "        gradf_k = delta_f(x0, method = grad_method, k = grad_method_k)\n",
    "        while(k < kmax and delta_fk_norm >= tollgrad):\n",
    "\n",
    "            # Compute dk\n",
    "#             d_k = -gradf_k\n",
    "            \n",
    "            \n",
    "            #TODO: Choose one method for finding alpha\n",
    "            \n",
    "            # Find alpha using line search(backtracking method)\n",
    "            j = 0\n",
    "            while (j < jmax and \n",
    "                (f(x[:, k] + alpha_k * p_k).sum() - f(x[:, k]).sum() + c1_arm * alpha_k * delta_f(x[:, k], method = grad_method, k = grad_method_k).T @ p_k >0.001 and \n",
    "                (np.abs(delta_f(x[:, k] + alpha_k * p_k, method = grad_method, k = grad_method_k).T @ p_k) - c2_wol * np.abs(delta_f(x[:, k], method = grad_method, k = grad_method_k).T @ p_k >0.001)))):\n",
    "                 \n",
    "                alpha_k = alpha_k * rho\n",
    "                j+=1\n",
    "#                 print(j, alpha_k)\n",
    "#                 print(f(x[:, k] + alpha_k * p_k).sum(),f(x[:, k]).sum() + c1_arm * alpha_k * delta_f(x[:, k], method = grad_method, k = grad_method_k).T @ p_k)\n",
    "                    \n",
    "            # Compute alpha[k]\n",
    "#             alpha_k = (gradf_k.T @ gradf_k) / (d_k.T @ (delta2_f(x[:, k]) * d_k)) \n",
    "\n",
    "            # Our Q matrix is diagonal matrix with shape(10000, 10000). Such matrix requires a lot of storage. \n",
    "            # For this reason I use element-wise multiplication which is fine for our solution.\n",
    "\n",
    "            # Compute the new value for xk\n",
    "            x[:, k+1] = x[:, k] + alpha_k * p_k\n",
    "\n",
    "            # Compute the new value for gradfk\n",
    "            gradf_k1 = delta_f(x[:, k+1], method = grad_method, k = grad_method_k)\n",
    "\n",
    "            # Compute the new value for betak\n",
    "            beta_k1 = (gradf_k1.T @ gradf_k1) / (gradf_k.T @ gradf_k) \n",
    "\n",
    "            # Compute the new value for pk\n",
    "            p_k = -gradf_k1 + beta_k1 * p_k\n",
    "\n",
    "            # Compute the gradient of f in xk\n",
    "            delta_fk_norm = np.linalg.norm(delta_f(x[:, k+1], method = grad_method, k = grad_method_k))\n",
    "\n",
    "            # Increase the step by one\n",
    "            k += 1\n",
    "            \n",
    "#             print(f\"k:{k}, {x[:, k]}\")\n",
    "    elif descent_method == 'pr':\n",
    "        gradf_k = delta_f(x0, method = grad_method, k = grad_method_k)\n",
    "        while(k < kmax and delta_fk_norm >= tollgrad):\n",
    "\n",
    "            # Compute dk\n",
    "#             d_k = -gradf_k\n",
    "            \n",
    "            \n",
    "            #TODO: Choose one method for finding alpha\n",
    "            \n",
    "            # Find alpha using line search(backtracking method)\n",
    "            j = 0\n",
    "            while (j < jmax and \n",
    "                (f(x[:, k] + alpha_k * p_k).sum() - f(x[:, k]).sum() + c1_arm * alpha_k * delta_f(x[:, k], method = grad_method, k = grad_method_k).T @ p_k >0.001 and \n",
    "                (np.abs(delta_f(x[:, k] + alpha_k * p_k, method = grad_method, k = grad_method_k).T @ p_k) - c2_wol * np.abs(delta_f(x[:, k], method = grad_method, k = grad_method_k).T @ p_k >0.001)))):\n",
    "                 \n",
    "                alpha_k = alpha_k * rho\n",
    "                j+=1\n",
    "#                 print(j, alpha_k)\n",
    "                    \n",
    "            # Compute alpha[k]\n",
    "#             alpha_k = (gradf_k.T @ gradf_k) / (d_k.T @ (delta2_f(x[:, k]) * d_k)) \n",
    "\n",
    "            # Our Q matrix is diagonal matrix with shape(10000, 10000). Such matrix requires a lot of storage. \n",
    "            # For this reason I use element-wise multiplication which is fine for our solution.\n",
    "\n",
    "            # Compute the new value for xk\n",
    "            x[:, k+1] = x[:, k] + alpha_k * p_k\n",
    "\n",
    "            # Compute the new value for gradfk\n",
    "            gradf_k1 = delta_f(x[:, k+1], method = grad_method, k = grad_method_k)\n",
    "\n",
    "            # Compute the new value for betak\n",
    "            beta_k1 = (gradf_k1.T @ (gradf_k1 - gradf_k)) / (gradf_k.T @ gradf_k) \n",
    "            \n",
    "            # Compute the new value for pk\n",
    "            p_k = -gradf_k1 + beta_k1 * p_k\n",
    "\n",
    "            # Compute the gradient of f in xk\n",
    "            delta_fk_norm = np.linalg.norm(delta_f(x[:, k+1], method = grad_method, k = grad_method_k))\n",
    "\n",
    "            # Increase the step by one\n",
    "            k += 1\n",
    "            \n",
    "#             print(f\"k:{k}, {x[:, k]}\")\n",
    "            \n",
    "    t = time.time() - s\n",
    "    # Compute f(xk)\n",
    "    fk = f(x[:, k-1]).sum()\n",
    "\n",
    "    # \"Cut\" xseq to the correct size and return\n",
    "    return x[:, :k], k-1, fk, t\n",
    "\n"
   ]
  },
  {
   "attachments": {
    "image.png": {
     "image/png": "[encoded data removed]"
    }
   },
   "cell_type": "markdown",
   "metadata": {},
   "source": [
    "![image.png](attachment:image.png)"
   ]
  },
  {
   "attachments": {
    "image.png": {
     "image/png": "[encoded data removed]"
    }
   },
   "cell_type": "markdown",
   "metadata": {},
   "source": [
    "![image.png](attachment:image.png)"
   ]
  },
  {
   "cell_type": "code",
   "execution_count": 45,
   "metadata": {},
   "outputs": [
    {
     "name": "stdout",
     "output_type": "stream",
     "text": [
      "1 0.1395\n",
      "1 0.06277500000000001\n",
      "2 0.028248750000000006\n",
      "3 0.012711937500000003\n",
      "1 0.005720371875000001\n"
     ]
    },
    {
     "data": {
      "text/plain": [
       "(array([[ 0.17534527, -0.19166225, -0.5401741 , ..., -0.68553066,\n",
       "         -0.68553369, -0.68553667],\n",
       "        [ 0.0189159 , -0.29784616, -0.59378956, ..., -0.6856539 ,\n",
       "         -0.68565523, -0.68565655],\n",
       "        [ 0.1043832 , -0.23925337, -0.56460091, ..., -0.68559136,\n",
       "         -0.68559355, -0.68559572],\n",
       "        ...,\n",
       "        [ 0.22335622, -0.16036959, -0.52402947, ..., -0.68548627,\n",
       "         -0.6854899 , -0.68549348],\n",
       "        [ 0.25602203, -0.13962057, -0.51338695, ..., -0.68545512,\n",
       "         -0.68545918, -0.68546318],\n",
       "        [ 0.69188438,  0.06253865, -0.43841135, ..., -0.68521269,\n",
       "         -0.68522007, -0.68522735]]),\n",
       " 149,\n",
       " -3953.4178656904796,\n",
       " 83.53538346290588)"
      ]
     },
     "execution_count": 45,
     "metadata": {},
     "output_type": "execute_result"
    }
   ],
   "source": [
    "steepest_descent(x0,  kmax, tol, descent_method='fr', grad_method='f', grad_method_k=4)\n"
   ]
  },
  {
   "cell_type": "code",
   "execution_count": 39,
   "metadata": {},
   "outputs": [],
   "source": [
    "n = 10**4\n",
    "np.random.seed(288874)\n",
    "x0 = np.random.random(n)\n",
    "kmax = 150\n",
    "tol = 10**(-5)"
   ]
  },
  {
   "cell_type": "code",
   "execution_count": 22,
   "metadata": {},
   "outputs": [
    {
     "name": "stdout",
     "output_type": "stream",
     "text": [
      "[  11.0000006   130.99997006 1010.99959279]\n",
      "[  11  131 1011]\n"
     ]
    }
   ],
   "source": [
    "v = [2, 5, 10]\n",
    "\n",
    "print(delta_f(v, method='f', k=10))\n",
    "print(delta_f(v))"
   ]
  },
  {
   "cell_type": "markdown",
   "metadata": {},
   "source": [
    "# 1. n = 10^4"
   ]
  },
  {
   "cell_type": "markdown",
   "metadata": {},
   "source": [
    "## A) Exact gradient"
   ]
  },
  {
   "cell_type": "markdown",
   "metadata": {},
   "source": [
    "### Steepest descent, Fletcher Reeves, Polak Ribier"
   ]
  },
  {
   "cell_type": "code",
   "execution_count": 50,
   "metadata": {
    "scrolled": true
   },
   "outputs": [
    {
     "name": "stdout",
     "output_type": "stream",
     "text": [
      "Steepest, exact for 10^4 --- Iteration: 15, time:2.076200485229492 s\n",
      "Fletcher Reeves, exact for 10^4 --- Iteration: 14, time:2.104492425918579 s\n",
      "Polak Ribier, exact for 10^4 --- Iteration: 17, time:2.437563419342041 s\n"
     ]
    }
   ],
   "source": [
    "n = 10**4\n",
    "np.random.seed(288874)\n",
    "x0 = np.random.random(n)\n",
    "\n",
    "x_seq_4_e_st, k_4_e_st, fk_4_e_st, t_4_e_st = steepest_descent(x0,  kmax, tol, grad_method='e')\n",
    "x_seq_4_e_fr, k_4_e_fr, fk_4_e_fr, t_4_e_fr = steepest_descent(x0,  kmax, tol, descent_method='fr', grad_method='e')\n",
    "x_seq_4_e_pr, k_4_e_pr, fk_4_e_pr, t_4_e_pr = steepest_descent(x0,  kmax, tol, descent_method='pr', grad_method='e')\n",
    "\n",
    "print(f\"Steepest, exact for 10^4 --- Iteration: {k_4_e_st+1}, time:{t_4_e_st} s\")\n",
    "print(f\"Fletcher Reeves, exact for 10^4 --- Iteration: {k_4_e_fr+1}, time:{t_4_e_fr} s\")\n",
    "print(f\"Polak Ribier, exact for 10^4 --- Iteration: {k_4_e_pr+1}, time:{t_4_e_pr} s\")\n"
   ]
  },
  {
   "cell_type": "markdown",
   "metadata": {},
   "source": [
    "## B) Forward differences gradient"
   ]
  },
  {
   "cell_type": "markdown",
   "metadata": {},
   "source": [
    "### Steepest descent"
   ]
  },
  {
   "cell_type": "code",
   "execution_count": 51,
   "metadata": {
    "scrolled": false
   },
   "outputs": [
    {
     "name": "stdout",
     "output_type": "stream",
     "text": [
      "k: 4\n",
      "Iteration: 150, time:89.12974143028259 s \n",
      "\n",
      "k: 6\n",
      "Iteration: 150, time:86.10775184631348 s \n",
      "\n",
      "k: 8\n",
      "Iteration: 150, time:84.33502650260925 s \n",
      "\n",
      "k: 10\n",
      "Iteration: 15, time:7.610975980758667 s \n",
      "\n",
      "k: 12\n",
      "Iteration: 19, time:10.025532007217407 s \n",
      "\n",
      "k: 14\n",
      "Iteration: 18, time:10.97890591621399 s \n",
      "\n"
     ]
    }
   ],
   "source": [
    "n = 10**4\n",
    "np.random.seed(288874)\n",
    "x0 = np.random.random(n)\n",
    "\n",
    "\n",
    "x_seq_k_4_f_st = [] \n",
    "k_k_4_f_st = []\n",
    "fk_k_4_f_st = []\n",
    "t_k_4_f_st = []\n",
    "\n",
    "for i in range(4, 15, 2):\n",
    "    print(f\"k: {i}\")\n",
    "    x_seq_i, k_i, fk_i, t_i = steepest_descent(x0,  kmax, tol, grad_method='f', grad_method_k=i)\n",
    "    \n",
    "    print(f\"Iteration: {k_i+1}, time:{t_i} s \\n\")\n",
    "    \n",
    "    x_seq_k_4_f_st.append(x_seq_i)\n",
    "    k_k_4_f_st.append(k_i)\n",
    "    fk_k_4_f_st.append(fk_i)\n",
    "    t_k_4_f_st.append(t_i)"
   ]
  },
  {
   "cell_type": "markdown",
   "metadata": {},
   "source": [
    "### Fletcher Reeves"
   ]
  },
  {
   "cell_type": "code",
   "execution_count": 55,
   "metadata": {
    "scrolled": true
   },
   "outputs": [
    {
     "name": "stdout",
     "output_type": "stream",
     "text": [
      "k: 4\n",
      "Iteration: 150, time:89.98417973518372 s \n",
      "\n",
      "k: 6\n",
      "Iteration: 14, time:8.55659794807434 s \n",
      "\n",
      "k: 8\n",
      "Iteration: 14, time:9.829858779907227 s \n",
      "\n",
      "k: 10\n",
      "Iteration: 14, time:8.01416277885437 s \n",
      "\n",
      "k: 12\n",
      "Iteration: 23, time:12.368697166442871 s \n",
      "\n",
      "k: 14\n",
      "Iteration: 34, time:17.991361379623413 s \n",
      "\n"
     ]
    }
   ],
   "source": [
    "n = 10**4\n",
    "np.random.seed(288874)\n",
    "x0 = np.random.random(n)\n",
    "\n",
    "\n",
    "x_seq_k_4_f_fr = [] \n",
    "k_k_4_f_fr = []\n",
    "fk_k_4_f_fr = []\n",
    "t_k_4_f_fr = []\n",
    "\n",
    "for i in range(4, 15, 2):\n",
    "    print(f\"k: {i}\")\n",
    "    x_seq_i, k_i, fk_i, t_i = steepest_descent(x0,  kmax, tol, descent_method='fr', grad_method='f', grad_method_k=i)\n",
    "    \n",
    "    print(f\"Iteration: {k_i+1}, time:{t_i} s \\n\")\n",
    "    \n",
    "    x_seq_k_4_f_fr.append(x_seq_i)\n",
    "    k_k_4_f_fr.append(k_i)\n",
    "    fk_k_4_f_fr.append(fk_i)\n",
    "    t_k_4_f_fr.append(t_i)"
   ]
  },
  {
   "cell_type": "markdown",
   "metadata": {},
   "source": [
    "### Polak Ribier"
   ]
  },
  {
   "cell_type": "code",
   "execution_count": 56,
   "metadata": {},
   "outputs": [
    {
     "name": "stdout",
     "output_type": "stream",
     "text": [
      "k: 4\n",
      "Iteration: 150, time:90.68399333953857 s \n",
      "\n",
      "k: 6\n",
      "Iteration: 17, time:9.736747741699219 s \n",
      "\n",
      "k: 8\n",
      "Iteration: 17, time:9.156349182128906 s \n",
      "\n",
      "k: 10\n",
      "Iteration: 17, time:9.6251802444458 s \n",
      "\n",
      "k: 12\n",
      "Iteration: 46, time:26.102468490600586 s \n",
      "\n",
      "k: 14\n",
      "Iteration: 51, time:29.105950593948364 s \n",
      "\n"
     ]
    }
   ],
   "source": [
    "n = 10**4\n",
    "np.random.seed(288874)\n",
    "x0 = np.random.random(n)\n",
    "\n",
    "\n",
    "x_seq_k_4_f_pr = [] \n",
    "k_k_4_f_pr = []\n",
    "fk_k_4_f_pr = []\n",
    "t_k_4_f_pr = []\n",
    "\n",
    "for i in range(4, 15, 2):\n",
    "    print(f\"k: {i}\")\n",
    "    x_seq_i, k_i, fk_i, t_i = steepest_descent(x0,  kmax, tol, descent_method='pr', grad_method='f', grad_method_k=i)\n",
    "    \n",
    "    print(f\"Iteration: {k_i+1}, time:{t_i} s \\n\")\n",
    "    \n",
    "    x_seq_k_4_f_pr.append(x_seq_i)\n",
    "    k_k_4_f_pr.append(k_i)\n",
    "    fk_k_4_f_pr.append(fk_i)\n",
    "    t_k_4_f_pr.append(t_i)"
   ]
  },
  {
   "cell_type": "markdown",
   "metadata": {},
   "source": [
    "# 2. n = 10^5"
   ]
  },
  {
   "cell_type": "markdown",
   "metadata": {},
   "source": [
    "## A) Exact gradient"
   ]
  },
  {
   "cell_type": "markdown",
   "metadata": {},
   "source": [
    "### Steepest descent, Fletcher Reeves, Polak Ribier"
   ]
  },
  {
   "cell_type": "code",
   "execution_count": 57,
   "metadata": {},
   "outputs": [
    {
     "name": "stdout",
     "output_type": "stream",
     "text": [
      "Steepest, exact for 10^4 --- Iteration: 16, time:23.64052963256836 s\n",
      "Fletcher Reeves, exact for 10^4 --- Iteration: 15, time:21.63531994819641 s\n",
      "Polak Ribier, exact for 10^4 --- Iteration: 18, time:27.07680058479309 s\n"
     ]
    }
   ],
   "source": [
    "n = 10**5\n",
    "np.random.seed(288874)\n",
    "x0 = np.random.random(n)\n",
    "\n",
    "x_seq_5_e_st, k_5_e_st, fk_5_e_st, t_5_e_st = steepest_descent(x0,  kmax, tol, grad_method='e')\n",
    "x_seq_5_e_fr, k_5_e_fr, fk_5_e_fr, t_5_e_fr = steepest_descent(x0,  kmax, tol, descent_method='fr', grad_method='e')\n",
    "x_seq_5_e_pr, k_5_e_pr, fk_5_e_pr, t_5_e_pr = steepest_descent(x0,  kmax, tol, descent_method='pr', grad_method='e')\n",
    "\n",
    "print(f\"Steepest, exact for 10^4 --- Iteration: {k_5_e_st+1}, time:{t_5_e_st} s\")\n",
    "print(f\"Fletcher Reeves, exact for 10^4 --- Iteration: {k_5_e_fr+1}, time:{t_5_e_fr} s\")\n",
    "print(f\"Polak Ribier, exact for 10^4 --- Iteration: {k_5_e_pr+1}, time:{t_5_e_pr} s\")\n"
   ]
  },
  {
   "cell_type": "markdown",
   "metadata": {},
   "source": [
    "## B) Forward difference gradient"
   ]
  },
  {
   "cell_type": "markdown",
   "metadata": {},
   "source": [
    "### Steepest descent"
   ]
  },
  {
   "cell_type": "code",
   "execution_count": 58,
   "metadata": {
    "scrolled": false
   },
   "outputs": [
    {
     "name": "stdout",
     "output_type": "stream",
     "text": [
      "k: 4\n"
     ]
    },
    {
     "ename": "KeyboardInterrupt",
     "evalue": "",
     "output_type": "error",
     "traceback": [
      "\u001b[0;31m---------------------------------------------------------------------------\u001b[0m",
      "\u001b[0;31mKeyboardInterrupt\u001b[0m                         Traceback (most recent call last)",
      "\u001b[0;32m<ipython-input-58-46d073a00f55>\u001b[0m in \u001b[0;36m<module>\u001b[0;34m\u001b[0m\n\u001b[1;32m     11\u001b[0m \u001b[0;32mfor\u001b[0m \u001b[0mi\u001b[0m \u001b[0;32min\u001b[0m \u001b[0mrange\u001b[0m\u001b[0;34m(\u001b[0m\u001b[0;36m4\u001b[0m\u001b[0;34m,\u001b[0m \u001b[0;36m15\u001b[0m\u001b[0;34m,\u001b[0m \u001b[0;36m2\u001b[0m\u001b[0;34m)\u001b[0m\u001b[0;34m:\u001b[0m\u001b[0;34m\u001b[0m\u001b[0;34m\u001b[0m\u001b[0m\n\u001b[1;32m     12\u001b[0m     \u001b[0mprint\u001b[0m\u001b[0;34m(\u001b[0m\u001b[0;34mf\"k: {i}\"\u001b[0m\u001b[0;34m)\u001b[0m\u001b[0;34m\u001b[0m\u001b[0;34m\u001b[0m\u001b[0m\n\u001b[0;32m---> 13\u001b[0;31m     \u001b[0mx_seq_i\u001b[0m\u001b[0;34m,\u001b[0m \u001b[0mk_i\u001b[0m\u001b[0;34m,\u001b[0m \u001b[0mfk_i\u001b[0m\u001b[0;34m,\u001b[0m \u001b[0mt_i\u001b[0m \u001b[0;34m=\u001b[0m \u001b[0msteepest_descent\u001b[0m\u001b[0;34m(\u001b[0m\u001b[0mx0\u001b[0m\u001b[0;34m,\u001b[0m  \u001b[0mkmax\u001b[0m\u001b[0;34m,\u001b[0m \u001b[0mtol\u001b[0m\u001b[0;34m,\u001b[0m \u001b[0mgrad_method\u001b[0m\u001b[0;34m=\u001b[0m\u001b[0;34m'f'\u001b[0m\u001b[0;34m,\u001b[0m \u001b[0mgrad_method_k\u001b[0m\u001b[0;34m=\u001b[0m\u001b[0mi\u001b[0m\u001b[0;34m)\u001b[0m\u001b[0;34m\u001b[0m\u001b[0;34m\u001b[0m\u001b[0m\n\u001b[0m\u001b[1;32m     14\u001b[0m \u001b[0;34m\u001b[0m\u001b[0m\n\u001b[1;32m     15\u001b[0m     \u001b[0mprint\u001b[0m\u001b[0;34m(\u001b[0m\u001b[0;34mf\"Iteration: {k_i+1}, time:{t_i} s \\n\"\u001b[0m\u001b[0;34m)\u001b[0m\u001b[0;34m\u001b[0m\u001b[0;34m\u001b[0m\u001b[0m\n",
      "\u001b[0;32m<ipython-input-54-f0e51cdad3f6>\u001b[0m in \u001b[0;36msteepest_descent\u001b[0;34m(x0, kmax, tollgrad, descent_method, alpha, grad_method, grad_method_k)\u001b[0m\n\u001b[1;32m     31\u001b[0m             \u001b[0mx\u001b[0m\u001b[0;34m[\u001b[0m\u001b[0;34m:\u001b[0m\u001b[0;34m,\u001b[0m \u001b[0mk\u001b[0m\u001b[0;34m+\u001b[0m\u001b[0;36m1\u001b[0m\u001b[0;34m]\u001b[0m \u001b[0;34m=\u001b[0m \u001b[0mx\u001b[0m\u001b[0;34m[\u001b[0m\u001b[0;34m:\u001b[0m\u001b[0;34m,\u001b[0m \u001b[0mk\u001b[0m\u001b[0;34m]\u001b[0m \u001b[0;34m+\u001b[0m \u001b[0malpha_k\u001b[0m \u001b[0;34m*\u001b[0m \u001b[0mp_k\u001b[0m\u001b[0;34m\u001b[0m\u001b[0;34m\u001b[0m\u001b[0m\n\u001b[1;32m     32\u001b[0m \u001b[0;34m\u001b[0m\u001b[0m\n\u001b[0;32m---> 33\u001b[0;31m             \u001b[0mp_k\u001b[0m \u001b[0;34m=\u001b[0m \u001b[0;34m-\u001b[0m\u001b[0mdelta_f\u001b[0m\u001b[0;34m(\u001b[0m\u001b[0mx\u001b[0m\u001b[0;34m[\u001b[0m\u001b[0;34m:\u001b[0m\u001b[0;34m,\u001b[0m \u001b[0mk\u001b[0m\u001b[0;34m+\u001b[0m\u001b[0;36m1\u001b[0m\u001b[0;34m]\u001b[0m\u001b[0;34m,\u001b[0m \u001b[0mmethod\u001b[0m \u001b[0;34m=\u001b[0m \u001b[0mgrad_method\u001b[0m\u001b[0;34m,\u001b[0m \u001b[0mk\u001b[0m \u001b[0;34m=\u001b[0m \u001b[0mgrad_method_k\u001b[0m\u001b[0;34m)\u001b[0m\u001b[0;34m\u001b[0m\u001b[0;34m\u001b[0m\u001b[0m\n\u001b[0m\u001b[1;32m     34\u001b[0m \u001b[0;34m\u001b[0m\u001b[0m\n\u001b[1;32m     35\u001b[0m             \u001b[0;31m# Compute the gradient of f in xk\u001b[0m\u001b[0;34m\u001b[0m\u001b[0;34m\u001b[0m\u001b[0;34m\u001b[0m\u001b[0m\n",
      "\u001b[0;32m<ipython-input-27-34c46f1867f8>\u001b[0m in \u001b[0;36mdelta_f\u001b[0;34m(x, method, k)\u001b[0m\n\u001b[1;32m     10\u001b[0m     \u001b[0;32melif\u001b[0m \u001b[0mmethod\u001b[0m \u001b[0;34m==\u001b[0m\u001b[0;34m'f'\u001b[0m\u001b[0;34m:\u001b[0m\u001b[0;34m\u001b[0m\u001b[0;34m\u001b[0m\u001b[0m\n\u001b[1;32m     11\u001b[0m         \u001b[0mh\u001b[0m \u001b[0;34m=\u001b[0m \u001b[0mnp\u001b[0m\u001b[0;34m.\u001b[0m\u001b[0mones\u001b[0m\u001b[0;34m(\u001b[0m\u001b[0mlen\u001b[0m\u001b[0;34m(\u001b[0m\u001b[0mx\u001b[0m\u001b[0;34m)\u001b[0m\u001b[0;34m)\u001b[0m \u001b[0;34m*\u001b[0m \u001b[0;36m10\u001b[0m\u001b[0;34m**\u001b[0m\u001b[0;34m(\u001b[0m\u001b[0;34m-\u001b[0m\u001b[0mk\u001b[0m\u001b[0;34m)\u001b[0m \u001b[0;34m*\u001b[0m \u001b[0mnp\u001b[0m\u001b[0;34m.\u001b[0m\u001b[0mlinalg\u001b[0m\u001b[0;34m.\u001b[0m\u001b[0mnorm\u001b[0m\u001b[0;34m(\u001b[0m\u001b[0mx\u001b[0m\u001b[0;34m)\u001b[0m\u001b[0;34m\u001b[0m\u001b[0;34m\u001b[0m\u001b[0m\n\u001b[0;32m---> 12\u001b[0;31m         \u001b[0;32mreturn\u001b[0m \u001b[0;34m(\u001b[0m\u001b[0mf\u001b[0m\u001b[0;34m(\u001b[0m\u001b[0mx\u001b[0m\u001b[0;34m+\u001b[0m\u001b[0mh\u001b[0m\u001b[0;34m)\u001b[0m \u001b[0;34m-\u001b[0m \u001b[0mf\u001b[0m\u001b[0;34m(\u001b[0m\u001b[0mx\u001b[0m\u001b[0;34m)\u001b[0m\u001b[0;34m)\u001b[0m \u001b[0;34m/\u001b[0m \u001b[0mh\u001b[0m\u001b[0;34m\u001b[0m\u001b[0;34m\u001b[0m\u001b[0m\n\u001b[0m\u001b[1;32m     13\u001b[0m     \u001b[0;32melif\u001b[0m \u001b[0mmethod\u001b[0m \u001b[0;34m==\u001b[0m\u001b[0;34m'b'\u001b[0m\u001b[0;34m:\u001b[0m\u001b[0;34m\u001b[0m\u001b[0;34m\u001b[0m\u001b[0m\n\u001b[1;32m     14\u001b[0m         \u001b[0mh\u001b[0m \u001b[0;34m=\u001b[0m \u001b[0mnp\u001b[0m\u001b[0;34m.\u001b[0m\u001b[0mones\u001b[0m\u001b[0;34m(\u001b[0m\u001b[0mlen\u001b[0m\u001b[0;34m(\u001b[0m\u001b[0mx\u001b[0m\u001b[0;34m)\u001b[0m\u001b[0;34m)\u001b[0m \u001b[0;34m*\u001b[0m \u001b[0;36m10\u001b[0m\u001b[0;34m**\u001b[0m\u001b[0;34m(\u001b[0m\u001b[0;34m-\u001b[0m\u001b[0mk\u001b[0m\u001b[0;34m)\u001b[0m \u001b[0;34m*\u001b[0m \u001b[0mnp\u001b[0m\u001b[0;34m.\u001b[0m\u001b[0mlinalg\u001b[0m\u001b[0;34m.\u001b[0m\u001b[0mnorm\u001b[0m\u001b[0;34m(\u001b[0m\u001b[0mx\u001b[0m\u001b[0;34m)\u001b[0m\u001b[0;34m\u001b[0m\u001b[0;34m\u001b[0m\u001b[0m\n",
      "\u001b[0;32m<ipython-input-27-34c46f1867f8>\u001b[0m in \u001b[0;36mf\u001b[0;34m(x)\u001b[0m\n\u001b[1;32m      2\u001b[0m     \u001b[0mf\u001b[0m \u001b[0;34m=\u001b[0m \u001b[0mnp\u001b[0m\u001b[0;34m.\u001b[0m\u001b[0mzeros\u001b[0m\u001b[0;34m(\u001b[0m\u001b[0mlen\u001b[0m\u001b[0;34m(\u001b[0m\u001b[0mx\u001b[0m\u001b[0;34m)\u001b[0m\u001b[0;34m)\u001b[0m\u001b[0;34m\u001b[0m\u001b[0;34m\u001b[0m\u001b[0m\n\u001b[1;32m      3\u001b[0m     \u001b[0;32mfor\u001b[0m \u001b[0mi\u001b[0m \u001b[0;32min\u001b[0m \u001b[0mrange\u001b[0m\u001b[0;34m(\u001b[0m\u001b[0mlen\u001b[0m\u001b[0;34m(\u001b[0m\u001b[0mx\u001b[0m\u001b[0;34m)\u001b[0m\u001b[0;34m)\u001b[0m\u001b[0;34m:\u001b[0m\u001b[0;34m\u001b[0m\u001b[0;34m\u001b[0m\u001b[0m\n\u001b[0;32m----> 4\u001b[0;31m         \u001b[0mf\u001b[0m\u001b[0;34m[\u001b[0m\u001b[0mi\u001b[0m\u001b[0;34m]\u001b[0m \u001b[0;34m=\u001b[0m \u001b[0mnp\u001b[0m\u001b[0;34m.\u001b[0m\u001b[0mpower\u001b[0m\u001b[0;34m(\u001b[0m\u001b[0mx\u001b[0m\u001b[0;34m[\u001b[0m\u001b[0mi\u001b[0m\u001b[0;34m]\u001b[0m\u001b[0;34m,\u001b[0m \u001b[0;36m4\u001b[0m\u001b[0;34m)\u001b[0m\u001b[0;34m/\u001b[0m\u001b[0;36m4\u001b[0m \u001b[0;34m+\u001b[0m \u001b[0mnp\u001b[0m\u001b[0;34m.\u001b[0m\u001b[0mpower\u001b[0m\u001b[0;34m(\u001b[0m\u001b[0mx\u001b[0m\u001b[0;34m[\u001b[0m\u001b[0mi\u001b[0m\u001b[0;34m]\u001b[0m\u001b[0;34m,\u001b[0m \u001b[0;36m2\u001b[0m\u001b[0;34m)\u001b[0m\u001b[0;34m/\u001b[0m\u001b[0;36m2\u001b[0m \u001b[0;34m+\u001b[0m \u001b[0mx\u001b[0m\u001b[0;34m[\u001b[0m\u001b[0mi\u001b[0m\u001b[0;34m]\u001b[0m\u001b[0;34m\u001b[0m\u001b[0;34m\u001b[0m\u001b[0m\n\u001b[0m\u001b[1;32m      5\u001b[0m     \u001b[0;32mreturn\u001b[0m \u001b[0mf\u001b[0m\u001b[0;34m\u001b[0m\u001b[0;34m\u001b[0m\u001b[0m\n\u001b[1;32m      6\u001b[0m \u001b[0;34m\u001b[0m\u001b[0m\n",
      "\u001b[0;31mKeyboardInterrupt\u001b[0m: "
     ]
    }
   ],
   "source": [
    "n = 10**5\n",
    "np.random.seed(288874)\n",
    "x0 = np.random.random(n)\n",
    "\n",
    "\n",
    "x_seq_k_5_f_st = [] \n",
    "k_k_5_f_st = []\n",
    "fk_k_5_f_st = []\n",
    "t_k_5_f_st = []\n",
    "\n",
    "for i in range(4, 15, 2):\n",
    "    print(f\"k: {i}\")\n",
    "    x_seq_i, k_i, fk_i, t_i = steepest_descent(x0,  kmax, tol, grad_method='f', grad_method_k=i)\n",
    "    \n",
    "    print(f\"Iteration: {k_i+1}, time:{t_i} s \\n\")\n",
    "    \n",
    "    x_seq_k_5_f_st.append(x_seq_i)\n",
    "    k_k_5_f_st.append(k_i)\n",
    "    fk_k_5_f_st.append(fk_i)\n",
    "    t_k_5_f_st.append(t_i)"
   ]
  },
  {
   "cell_type": "markdown",
   "metadata": {},
   "source": [
    "### Fletcher Reeves"
   ]
  },
  {
   "cell_type": "code",
   "execution_count": null,
   "metadata": {
    "scrolled": true
   },
   "outputs": [],
   "source": [
    "n = 10**5\n",
    "np.random.seed(288874)\n",
    "x0 = np.random.random(n)\n",
    "\n",
    "\n",
    "x_seq_k_5_f_fr = [] \n",
    "k_k_5_f_fr = []\n",
    "fk_k_5_f_fr = []\n",
    "t_k_5_f_fr = []\n",
    "\n",
    "for i in range(4, 15, 2):\n",
    "    print(f\"k: {i}\")\n",
    "    x_seq_i, k_i, fk_i, t_i = steepest_descent(x0,  kmax, tol, descent_method='fr', grad_method='f', grad_method_k=i)\n",
    "    \n",
    "    print(f\"Iteration: {k_i+1}, time:{t_i} s\\n\")\n",
    "    \n",
    "    x_seq_k_5_f_fr.append(x_seq_i)\n",
    "    k_k_5_f_fr.append(k_i)\n",
    "    fk_k_5_f_fr.append(fk_i)\n",
    "    t_k_5_f_fr.append(t_i)"
   ]
  },
  {
   "cell_type": "markdown",
   "metadata": {},
   "source": [
    "### Polak Ribier"
   ]
  },
  {
   "cell_type": "code",
   "execution_count": null,
   "metadata": {},
   "outputs": [],
   "source": [
    "n = 10**5\n",
    "np.random.seed(288874)\n",
    "x0 = np.random.random(n)\n",
    "\n",
    "\n",
    "x_seq_k_5_f_pr = [] \n",
    "k_k_5_f_pr = []\n",
    "fk_k_5_f_pr = []\n",
    "t_k_5_f_pr = []\n",
    "\n",
    "for i in range(4, 15, 2):\n",
    "    print(f\"k: {i}\")\n",
    "    x_seq_i, k_i, fk_i, t_i = steepest_descent(x0,  kmax, tol, descent_method='pr', grad_method='f', grad_method_k=i)\n",
    "    \n",
    "    print(f\"Iteration: {k_i+1}, time:{t_i} s\\n\")\n",
    "    \n",
    "    x_seq_k_5_f_pr.append(x_seq_i)\n",
    "    k_k_5_f_pr.append(k_i)\n",
    "    fk_k_5_f_pr.append(fk_i)\n",
    "    t_k_5_f_pr.append(t_i)"
   ]
  },
  {
   "cell_type": "code",
   "execution_count": null,
   "metadata": {},
   "outputs": [],
   "source": []
  },
  {
   "cell_type": "code",
   "execution_count": null,
   "metadata": {},
   "outputs": [],
   "source": []
  },
  {
   "cell_type": "code",
   "execution_count": null,
   "metadata": {},
   "outputs": [],
   "source": []
  },
  {
   "cell_type": "code",
   "execution_count": 10,
   "metadata": {},
   "outputs": [
    {
     "data": {
      "image/png": "[encoded data removed]",
      "text/plain": [
       "<Figure size 720x360 with 1 Axes>"
      ]
     },
     "metadata": {
      "needs_background": "light"
     },
     "output_type": "display_data"
    }
   ],
   "source": [
    "fig, ax = plt.subplots(figsize = (10,5))\n",
    "plt.grid()\n",
    "ax = plt.plot(range(4, 15, 2), t_k_4_f_st)\n",
    "ax = plt.plot(range(4, 15, 2), t_k_4_f_fr)\n",
    "ax = plt.plot(range(4, 15, 2), t_k_4_f_pr)\n",
    "ax.legend(['Steepest', 'FR', 'PR'], loc =\"upper left\", prop={'size': 20})\n",
    "\n"
   ]
  },
  {
   "cell_type": "code",
   "execution_count": 84,
   "metadata": {},
   "outputs": [
    {
     "name": "stdout",
     "output_type": "stream",
     "text": [
      "10 [-0.72472807 -0.73787053 -0.73097963 -0.69301367 -0.69375122 -0.6946685\n",
      " -0.70877179 -0.71911872 -0.70578684 -0.70554801 -0.69172507 -0.69376923\n",
      " -0.68582848 -0.6947902  -0.69244503 -0.71978692 -0.69455798 -0.71622325\n",
      " -0.68611017 -0.69811554 -0.68929053 -0.72893953 -0.6881763  -0.69145857\n",
      " -0.68999378 -0.724203   -0.70273998 -0.69505741 -0.68526993 -0.68607322\n",
      " -0.71090534 -0.68531153 -0.68904259 -0.72570949 -0.71878128 -0.70142101\n",
      " -0.69891288 -0.7283081  -0.73282547 -0.70201176 -0.69285435 -0.68930593\n",
      " -0.69609783 -0.69051231 -0.68717813 -0.68706623 -0.69556152 -0.72379053\n",
      " -0.69223589 -0.69445055 -0.70549508 -0.71645967 -0.68607926 -0.7073386\n",
      " -0.6852669  -0.68781209 -0.70656021 -0.68561764 -0.73103025 -0.68603021\n",
      " -0.71102934 -0.73804606 -0.71059048 -0.70808795 -0.68890508 -0.69133214\n",
      " -0.69405332 -0.69288587 -0.68718115 -0.70455559 -0.69114875 -0.69440062\n",
      " -0.73449892 -0.73607965 -0.68558285 -0.69264152 -0.70389604 -0.68560364\n",
      " -0.70839337 -0.68834403 -0.69454004 -0.68536213 -0.6922492  -0.71109707\n",
      " -0.68722469 -0.69226495 -0.68717594 -0.70987675 -0.69200903 -0.70998724\n",
      " -0.6852661  -0.68540002 -0.71167357 -0.69323544 -0.70889501 -0.70602921\n",
      " -0.73898458 -0.72163771 -0.68813468 -0.68735378 -0.68547211 -0.73293291\n",
      " -0.68622011 -0.73059192 -0.68537559 -0.71435481 -0.69203381 -0.71683988\n",
      " -0.69522647 -0.69663875 -0.68593049 -0.71522956 -0.68994244 -0.68668931\n",
      " -0.6897227  -0.70275961 -0.69263399 -0.68780871 -0.68905782 -0.73415373\n",
      " -0.73445969 -0.69983686 -0.6868208  -0.73143525 -0.68537797 -0.69285403\n",
      " -0.68806998 -0.72714134 -0.71926784 -0.69282414 -0.68526795 -0.68597576\n",
      " -0.6897854  -0.71141948 -0.73911185 -0.68563572 -0.71878659 -0.72952566\n",
      " -0.7271134  -0.68689318 -0.71750578 -0.72701627 -0.69758915 -0.68644294\n",
      " -0.68783989 -0.68859534 -0.68570914 -0.69756638 -0.70071133 -0.68703793\n",
      " -0.70318772 -0.69751783 -0.69280148 -0.69577635 -0.6943493  -0.73393642\n",
      " -0.70034067 -0.72616404 -0.68946318 -0.68644634 -0.71081225 -0.68622901\n",
      " -0.69979888 -0.72830627 -0.70708747 -0.71379982 -0.69649479 -0.68690695\n",
      " -0.68553232 -0.69425163 -0.68542665 -0.68539407 -0.73519689 -0.71281391\n",
      " -0.7333151  -0.68533457 -0.72251555 -0.71345749 -0.7371893  -0.73774455\n",
      " -0.69125762 -0.68595434 -0.71669733 -0.73754984 -0.69225176 -0.68529565\n",
      " -0.72171831 -0.6946626  -0.71506789 -0.68575815 -0.68632705 -0.69073474\n",
      " -0.69955036 -0.68896276 -0.70710013 -0.70459762 -0.73257025 -0.70673932\n",
      " -0.71655635 -0.68550741 -0.69245365 -0.69056588 -0.71275995 -0.71367714\n",
      " -0.6894009  -0.68786666 -0.69161059 -0.69738438 -0.7125066  -0.69828623\n",
      " -0.68618776 -0.69440885 -0.69008875 -0.73364182 -0.69235768 -0.72742398\n",
      " -0.73175857 -0.7028783  -0.68617695 -0.68572543 -0.68651815 -0.68863897\n",
      " -0.69358175 -0.70140376 -0.7286621  -0.72542761 -0.71429468 -0.691819\n",
      " -0.68881713 -0.68528559 -0.73507302 -0.68572829 -0.73542342 -0.69113329\n",
      " -0.7379265  -0.68529189 -0.68846633 -0.70137018 -0.69113108 -0.68561418\n",
      " -0.72729513 -0.68557735 -0.6856694  -0.73519899 -0.68540687 -0.70492237\n",
      " -0.68843289 -0.69126792 -0.7298964  -0.69665425 -0.69128933 -0.73298457\n",
      " -0.68779804 -0.71646303 -0.70562186 -0.72589689 -0.68536355 -0.70093275\n",
      " -0.69921789 -0.73868901 -0.71986028 -0.73134218 -0.68659426 -0.72497717\n",
      " -0.70855064 -0.70824263 -0.71816622 -0.68916704 -0.71098903 -0.71947639\n",
      " -0.72488053 -0.73338929 -0.69009909 -0.68539067 -0.72562834 -0.68682306\n",
      " -0.68657092 -0.71639224 -0.73902139 -0.68586671 -0.68741154 -0.68931192\n",
      " -0.72146903 -0.69260994 -0.72995509 -0.69787646 -0.68567161 -0.73515176\n",
      " -0.69191641 -0.70600227 -0.70085292 -0.71877158 -0.68566381 -0.68590747\n",
      " -0.70517287 -0.69919368 -0.72216431 -0.69623184 -0.69051862 -0.68819968\n",
      " -0.68562725 -0.72103272 -0.6970814  -0.73757559 -0.73140886 -0.69887628\n",
      " -0.72428731 -0.69230467 -0.69086168 -0.68901877 -0.68994574 -0.68681389\n",
      " -0.69026371 -0.69033878 -0.72677826 -0.7340943  -0.73508097 -0.68548646\n",
      " -0.69158156 -0.6906917  -0.70461337 -0.72787431 -0.68527373 -0.73800578\n",
      " -0.68692194 -0.68644185 -0.70177964 -0.7211596  -0.73555214 -0.68533393\n",
      " -0.6853614  -0.73638134 -0.71814331 -0.6908541  -0.69558867 -0.69173836\n",
      " -0.70789994 -0.69977345 -0.69482913 -0.68820325 -0.71465498 -0.69374087\n",
      " -0.73870524 -0.69296347 -0.69134893 -0.68634379 -0.69317141 -0.73695655\n",
      " -0.68783937 -0.69296615 -0.72579527 -0.70182234 -0.68622245 -0.73465403\n",
      " -0.68866006 -0.70335308 -0.70321324 -0.68738255 -0.71015049 -0.72840609\n",
      " -0.6858856  -0.70879249 -0.6869047  -0.71925348 -0.71300009 -0.69598754\n",
      " -0.70980284 -0.71411627 -0.70317019 -0.70789134 -0.73910484 -0.7269604\n",
      " -0.68536305 -0.6875442  -0.70275532 -0.68694598 -0.72593495 -0.73021011\n",
      " -0.72166335 -0.68920651 -0.70103812 -0.70339775 -0.6858908  -0.73536607\n",
      " -0.70147762 -0.69478918 -0.68768934 -0.69459941 -0.69275954 -0.69294628\n",
      " -0.68587997 -0.69086809 -0.73438391 -0.70366615 -0.71705465 -0.72435332\n",
      " -0.68545227 -0.68742299 -0.68564229 -0.70188249 -0.69493613 -0.68798215\n",
      " -0.70568389 -0.68776326 -0.69185251 -0.73593038 -0.72717753 -0.68690893\n",
      " -0.69279993 -0.73676607 -0.70915655 -0.70596408 -0.73376444 -0.73535599\n",
      " -0.72849896 -0.68805279 -0.70479234 -0.69457815 -0.73610107 -0.73375701\n",
      " -0.71231439 -0.68977249 -0.68907108 -0.70691527 -0.69849528 -0.72083724\n",
      " -0.6873709  -0.72344696 -0.73581503 -0.69457689 -0.68579342 -0.68934067\n",
      " -0.6900474  -0.73224476 -0.73671593 -0.73818987 -0.72901377 -0.68832146\n",
      " -0.71084295 -0.68529966 -0.72545525 -0.70130739 -0.68677545 -0.69438849\n",
      " -0.6854194  -0.68803554 -0.6870673  -0.70480384 -0.69182757 -0.68644422\n",
      " -0.68574966 -0.72818818 -0.69440973 -0.69002717 -0.69636647 -0.69179386\n",
      " -0.70422177 -0.72781576 -0.68814034 -0.73690365 -0.70937011 -0.68526987\n",
      " -0.73171267 -0.68617862 -0.71721502 -0.73906119 -0.69217774 -0.68559652\n",
      " -0.73858532 -0.71815542 -0.68631731 -0.70452931 -0.69471133 -0.69908119\n",
      " -0.72799886 -0.7085197  -0.6908163  -0.70415902 -0.70893457 -0.68533981\n",
      " -0.69320777 -0.7224168  -0.73299686 -0.6888339  -0.71838348 -0.68647695\n",
      " -0.72668914 -0.70138727 -0.71492077 -0.689951   -0.68617521 -0.72436351\n",
      " -0.70117612 -0.68719219 -0.7262925  -0.68569272 -0.68537608 -0.72625817\n",
      " -0.69270338 -0.73153447 -0.68886961 -0.68526818 -0.69604424 -0.72652626\n",
      " -0.71862465 -0.72936923 -0.71543197 -0.68582402 -0.71950064 -0.73362372\n",
      " -0.69170669 -0.68576723 -0.69593201 -0.73139409 -0.70732991 -0.72204445\n",
      " -0.73184767 -0.72730934 -0.71410013 -0.68548819 -0.69901833 -0.72790301\n",
      " -0.68773551 -0.72588575 -0.72987928 -0.68803689 -0.71660053 -0.68532474\n",
      " -0.69400905 -0.69290498 -0.69037295 -0.70963555 -0.702684   -0.71189821\n",
      " -0.69953093 -0.71764764 -0.71065348 -0.68717433 -0.69087158 -0.69181729\n",
      " -0.73047181 -0.71378423 -0.68644823 -0.68576036 -0.69175931 -0.6853384\n",
      " -0.69073606 -0.68704739 -0.68592041 -0.71766999 -0.6882722  -0.7326149\n",
      " -0.70816181 -0.68539273 -0.71613263 -0.7056556  -0.73457206 -0.72849488\n",
      " -0.70371884 -0.68874526 -0.73863048 -0.72070537 -0.69289827 -0.69426242\n",
      " -0.72483017 -0.69923775 -0.69836749 -0.73677299 -0.72218172 -0.69559393\n",
      " -0.68731912 -0.6883981  -0.68792815 -0.72679676 -0.73609177 -0.70228903\n",
      " -0.72649213 -0.69196447 -0.68662791 -0.68536143 -0.70707407 -0.6852903\n",
      " -0.70023937 -0.72757478 -0.70644392 -0.70990697 -0.68603558 -0.68866889\n",
      " -0.72248323 -0.73118156 -0.68651254 -0.68609877 -0.68597792 -0.73700276\n",
      " -0.73325175 -0.68627891 -0.71127039 -0.68770543 -0.73876939 -0.69471715\n",
      " -0.73017501 -0.69109972 -0.72282013 -0.70909847 -0.68739184 -0.69741027\n",
      " -0.72913884 -0.69319664 -0.68527173 -0.68881398 -0.69479838 -0.73318511\n",
      " -0.68901599 -0.70113297 -0.73645767 -0.68612707 -0.6918076  -0.68769606\n",
      " -0.68716237 -0.70080092 -0.68602087 -0.7075246  -0.73381629 -0.70491475\n",
      " -0.69662362 -0.72778491 -0.71726143 -0.72978014 -0.68537333 -0.68853571\n",
      " -0.72572673 -0.6861966  -0.730273   -0.69245229 -0.69027359 -0.72545024\n",
      " -0.68540857 -0.73399628 -0.6861387  -0.73289197 -0.73209147 -0.69029352\n",
      " -0.72608623 -0.71802606 -0.68962086 -0.69846614 -0.6859799  -0.68657726\n",
      " -0.68595319 -0.70399241 -0.68802437 -0.72411273 -0.71195918 -0.70380083\n",
      " -0.72079645 -0.7016298  -0.7351381  -0.69210935 -0.70683987 -0.69140367\n",
      " -0.73820389 -0.68793708 -0.72763527 -0.68581011 -0.72157371 -0.72704497\n",
      " -0.6895666  -0.68588988 -0.68537345 -0.72905049 -0.69226105 -0.69057529\n",
      " -0.72275476 -0.72424384 -0.70157185 -0.72420762 -0.68620468 -0.68529177\n",
      " -0.72425014 -0.7320367  -0.72200581 -0.68793159 -0.72494382 -0.73163905\n",
      " -0.73206617 -0.73448011 -0.71014344 -0.6971176  -0.71304505 -0.71708197\n",
      " -0.68957602 -0.70543299 -0.70721239 -0.68617168 -0.68752065 -0.68532208\n",
      " -0.68904287 -0.68527027 -0.6887298  -0.69014817 -0.69098887 -0.68601869\n",
      " -0.69075446 -0.72820131 -0.70862102 -0.69098686 -0.69663681 -0.69056851\n",
      " -0.68529648 -0.68540226 -0.70250264 -0.70329289 -0.73505164 -0.68541284\n",
      " -0.69659047 -0.73790142 -0.69862077 -0.71651679 -0.69598145 -0.68879366\n",
      " -0.68656976 -0.68729091 -0.69153041 -0.6853577  -0.68587193 -0.68526662\n",
      " -0.68550537 -0.70035121 -0.68549436 -0.69230423 -0.72448658 -0.69319072\n",
      " -0.73902527 -0.73309652 -0.7181038  -0.72000071 -0.72610755 -0.71964637\n",
      " -0.72937748 -0.73799768 -0.69081697 -0.7291765  -0.69223687 -0.68534545\n",
      " -0.71910299 -0.70412488 -0.68893009 -0.68792373 -0.73310827 -0.68543992\n",
      " -0.68527134 -0.71455808 -0.68549519 -0.6865962  -0.70552802 -0.68783608\n",
      " -0.69207805 -0.68638091 -0.69436751 -0.71296376 -0.68706268 -0.69114236\n",
      " -0.72659992 -0.73154145 -0.69743336 -0.6914632  -0.73533895 -0.68978242\n",
      " -0.71048223 -0.68527397 -0.69297837 -0.68710939 -0.69366047 -0.69022035\n",
      " -0.73881874 -0.71600089 -0.69548283 -0.72011092 -0.68536164 -0.68761665\n",
      " -0.7091606  -0.71326223 -0.69067201 -0.705874   -0.68614102 -0.70574356\n",
      " -0.71922349 -0.68617421 -0.73725199 -0.7072227  -0.73322436 -0.72428635\n",
      " -0.72312504 -0.69393339 -0.68603293 -0.69518617 -0.6878365  -0.72591711\n",
      " -0.71101459 -0.70593493 -0.68581903 -0.69632971 -0.68529518 -0.73600861\n",
      " -0.69423268 -0.72553534 -0.7008708  -0.69505279 -0.69455544 -0.68687538\n",
      " -0.68584928 -0.69232524 -0.68562727 -0.71001728 -0.68979392 -0.73467563\n",
      " -0.71377346 -0.6872857  -0.68584181 -0.69664627 -0.68649619 -0.73252705\n",
      " -0.72273094 -0.73625222 -0.70775196 -0.6897622  -0.7233289  -0.68809126\n",
      " -0.73392866 -0.72366732 -0.70894194 -0.68526807 -0.73786921 -0.73223686\n",
      " -0.69487593 -0.68626633 -0.71575312 -0.6928833  -0.71361466 -0.70962822\n",
      " -0.68754099 -0.73308843 -0.71737344 -0.69233018 -0.68908377 -0.69430866\n",
      " -0.73121749 -0.6920026  -0.68568194 -0.6915084  -0.6894752  -0.73773619\n",
      " -0.68998433 -0.6854359  -0.73760175 -0.70464887 -0.71043012 -0.69242064\n",
      " -0.69122207 -0.69418791 -0.71673955 -0.6927152  -0.73265088 -0.68672798\n",
      " -0.68826448 -0.68751523 -0.69528534 -0.68532289 -0.73697072 -0.70964363\n",
      " -0.68577972 -0.70225108 -0.71781623 -0.68533375 -0.69109207 -0.72688113\n",
      " -0.70184666 -0.73018743 -0.70070643 -0.68860601 -0.70913885 -0.73160948\n",
      " -0.73651708 -0.73087162 -0.68529861 -0.73282494 -0.69183091 -0.70275789\n",
      " -0.70436536 -0.69742332 -0.69053094 -0.68942914 -0.71298615 -0.69335656\n",
      " -0.68794871 -0.73398863 -0.68753379 -0.68576677 -0.71978654 -0.71592577\n",
      " -0.69016259 -0.70342365 -0.72006163 -0.69282542 -0.68691995 -0.68639455\n",
      " -0.68889658 -0.72540822 -0.6870598  -0.68640455 -0.72092045 -0.72106246\n",
      " -0.69913453 -0.72250823 -0.69019358 -0.68954683 -0.7281912  -0.68541687\n",
      " -0.6880864  -0.69057659 -0.68556972 -0.69119882 -0.72094847 -0.73871305\n",
      " -0.68554479 -0.70530243 -0.69389228 -0.70101386 -0.69196782 -0.69941474\n",
      " -0.68536647 -0.71254998 -0.71160617 -0.71741048 -0.68768757 -0.73337788\n",
      " -0.68683171 -0.68777795 -0.68578415 -0.68949942 -0.69103101 -0.69319194\n",
      " -0.7299626  -0.689811   -0.68625349 -0.70979385 -0.68580319 -0.68538562\n",
      " -0.73485491 -0.6863105  -0.68736126 -0.69022017 -0.7221625  -0.68543444\n",
      " -0.69664365 -0.73791767 -0.72179631 -0.6854548  -0.70763269 -0.72914429\n",
      " -0.68634941 -0.69523568 -0.69470097 -0.69324415 -0.72499881 -0.70810827\n",
      " -0.69376328 -0.68988442 -0.69367116 -0.69358749 -0.68526742 -0.70215933\n",
      " -0.70824961 -0.68771541 -0.6862383  -0.72312901 -0.68528017 -0.71335155\n",
      " -0.68764455 -0.73630563 -0.72832009 -0.72449517 -0.69197782 -0.73234136\n",
      " -0.68753552 -0.70120178 -0.69064211 -0.72478224 -0.73037416 -0.69335768\n",
      " -0.68778157 -0.69718978 -0.6887795  -0.68864138 -0.71884183 -0.72144132\n",
      " -0.6961303  -0.69030202 -0.69210825 -0.68629032]\n"
     ]
    },
    {
     "ename": "KeyboardInterrupt",
     "evalue": "",
     "output_type": "error",
     "traceback": [
      "\u001b[0;31m---------------------------------------------------------------------------\u001b[0m",
      "\u001b[0;31mKeyboardInterrupt\u001b[0m                         Traceback (most recent call last)",
      "\u001b[0;32m<ipython-input-84-a236b4f88c75>\u001b[0m in \u001b[0;36m<module>\u001b[0;34m\u001b[0m\n\u001b[1;32m      6\u001b[0m \u001b[0;34m\u001b[0m\u001b[0m\n\u001b[1;32m      7\u001b[0m \u001b[0;32mfor\u001b[0m \u001b[0mi\u001b[0m \u001b[0;32min\u001b[0m \u001b[0mrange\u001b[0m\u001b[0;34m(\u001b[0m\u001b[0;36m10\u001b[0m\u001b[0;34m,\u001b[0m\u001b[0;36m20\u001b[0m\u001b[0;34m)\u001b[0m\u001b[0;34m:\u001b[0m\u001b[0;34m\u001b[0m\u001b[0;34m\u001b[0m\u001b[0m\n\u001b[0;32m----> 8\u001b[0;31m     \u001b[0mx_seq_i\u001b[0m\u001b[0;34m,\u001b[0m \u001b[0mk_i\u001b[0m\u001b[0;34m,\u001b[0m \u001b[0mfk_i\u001b[0m\u001b[0;34m,\u001b[0m \u001b[0mt_i\u001b[0m \u001b[0;34m=\u001b[0m \u001b[0msteepest_descent\u001b[0m\u001b[0;34m(\u001b[0m\u001b[0mx0\u001b[0m\u001b[0;34m,\u001b[0m \u001b[0mi\u001b[0m\u001b[0;34m,\u001b[0m \u001b[0mtol\u001b[0m\u001b[0;34m,\u001b[0m \u001b[0mgrad_method\u001b[0m\u001b[0;34m=\u001b[0m\u001b[0;34m'f'\u001b[0m\u001b[0;34m,\u001b[0m \u001b[0mgrad_method_k\u001b[0m\u001b[0;34m=\u001b[0m\u001b[0;36m2\u001b[0m\u001b[0;34m)\u001b[0m\u001b[0;34m\u001b[0m\u001b[0;34m\u001b[0m\u001b[0m\n\u001b[0m\u001b[1;32m      9\u001b[0m \u001b[0;34m\u001b[0m\u001b[0m\n\u001b[1;32m     10\u001b[0m     \u001b[0mprint\u001b[0m\u001b[0;34m(\u001b[0m\u001b[0mi\u001b[0m\u001b[0;34m,\u001b[0m \u001b[0mx_seq_i\u001b[0m\u001b[0;34m[\u001b[0m\u001b[0;34m:\u001b[0m\u001b[0;34m,\u001b[0m\u001b[0mk_i\u001b[0m\u001b[0;34m]\u001b[0m\u001b[0;34m)\u001b[0m\u001b[0;34m\u001b[0m\u001b[0;34m\u001b[0m\u001b[0m\n",
      "\u001b[0;32m<ipython-input-25-0a241d0253c9>\u001b[0m in \u001b[0;36msteepest_descent\u001b[0;34m(x0, kmax, tollgrad, descent_method, alpha, grad_method, grad_method_k)\u001b[0m\n\u001b[1;32m     23\u001b[0m             \u001b[0mj\u001b[0m \u001b[0;34m=\u001b[0m \u001b[0;36m0\u001b[0m\u001b[0;34m\u001b[0m\u001b[0;34m\u001b[0m\u001b[0m\n\u001b[1;32m     24\u001b[0m             while (j < jmax and\n\u001b[0;32m---> 25\u001b[0;31m                    f(x[:, k] + alpha_k * p_k).sum() > f(x[:, k]).sum() + c1_arm * alpha_k * delta_f(x[:, k], method = grad_method, k = grad_method_k).T @ p_k):\n\u001b[0m\u001b[1;32m     26\u001b[0m                 \u001b[0malpha_k\u001b[0m \u001b[0;34m=\u001b[0m \u001b[0malpha_k\u001b[0m \u001b[0;34m*\u001b[0m \u001b[0mrho\u001b[0m\u001b[0;34m\u001b[0m\u001b[0;34m\u001b[0m\u001b[0m\n\u001b[1;32m     27\u001b[0m                 \u001b[0mj\u001b[0m\u001b[0;34m+=\u001b[0m\u001b[0;36m1\u001b[0m\u001b[0;34m\u001b[0m\u001b[0;34m\u001b[0m\u001b[0m\n",
      "\u001b[0;32m<ipython-input-2-dcd4b29f2652>\u001b[0m in \u001b[0;36mdelta_f\u001b[0;34m(x, method, k)\u001b[0m\n\u001b[1;32m     13\u001b[0m             \u001b[0me\u001b[0m \u001b[0;34m=\u001b[0m \u001b[0mnp\u001b[0m\u001b[0;34m.\u001b[0m\u001b[0mzeros\u001b[0m\u001b[0;34m(\u001b[0m\u001b[0mlen\u001b[0m\u001b[0;34m(\u001b[0m\u001b[0mx\u001b[0m\u001b[0;34m)\u001b[0m\u001b[0;34m)\u001b[0m\u001b[0;34m\u001b[0m\u001b[0;34m\u001b[0m\u001b[0m\n\u001b[1;32m     14\u001b[0m             \u001b[0me\u001b[0m\u001b[0;34m[\u001b[0m\u001b[0mi\u001b[0m\u001b[0;34m]\u001b[0m \u001b[0;34m=\u001b[0m \u001b[0;36m1\u001b[0m\u001b[0;34m\u001b[0m\u001b[0;34m\u001b[0m\u001b[0m\n\u001b[0;32m---> 15\u001b[0;31m             \u001b[0mh\u001b[0m\u001b[0;34m[\u001b[0m\u001b[0mi\u001b[0m\u001b[0;34m]\u001b[0m \u001b[0;34m=\u001b[0m \u001b[0;36m10\u001b[0m\u001b[0;34m**\u001b[0m\u001b[0;34m(\u001b[0m\u001b[0;34m-\u001b[0m\u001b[0mk\u001b[0m\u001b[0;34m)\u001b[0m \u001b[0;34m*\u001b[0m \u001b[0mnp\u001b[0m\u001b[0;34m.\u001b[0m\u001b[0mlinalg\u001b[0m\u001b[0;34m.\u001b[0m\u001b[0mnorm\u001b[0m\u001b[0;34m(\u001b[0m\u001b[0mx\u001b[0m\u001b[0;34m)\u001b[0m \u001b[0;34m*\u001b[0m \u001b[0me\u001b[0m\u001b[0;34m[\u001b[0m\u001b[0mi\u001b[0m\u001b[0;34m]\u001b[0m\u001b[0;34m\u001b[0m\u001b[0;34m\u001b[0m\u001b[0m\n\u001b[0m\u001b[1;32m     16\u001b[0m         \u001b[0;32mreturn\u001b[0m \u001b[0;34m(\u001b[0m\u001b[0mf\u001b[0m\u001b[0;34m(\u001b[0m\u001b[0mx\u001b[0m\u001b[0;34m+\u001b[0m\u001b[0mh\u001b[0m\u001b[0;34m)\u001b[0m \u001b[0;34m-\u001b[0m \u001b[0mf\u001b[0m\u001b[0;34m(\u001b[0m\u001b[0mx\u001b[0m\u001b[0;34m)\u001b[0m\u001b[0;34m)\u001b[0m \u001b[0;34m/\u001b[0m \u001b[0mh\u001b[0m\u001b[0;34m\u001b[0m\u001b[0;34m\u001b[0m\u001b[0m\n\u001b[1;32m     17\u001b[0m     \u001b[0;32melif\u001b[0m \u001b[0mmethod\u001b[0m \u001b[0;34m==\u001b[0m\u001b[0;34m'b'\u001b[0m\u001b[0;34m:\u001b[0m\u001b[0;34m\u001b[0m\u001b[0;34m\u001b[0m\u001b[0m\n",
      "\u001b[0;32m<__array_function__ internals>\u001b[0m in \u001b[0;36mnorm\u001b[0;34m(*args, **kwargs)\u001b[0m\n",
      "\u001b[0;32m~/anaconda3/lib/python3.8/site-packages/numpy/linalg/linalg.py\u001b[0m in \u001b[0;36mnorm\u001b[0;34m(x, ord, axis, keepdims)\u001b[0m\n\u001b[1;32m   2525\u001b[0m \u001b[0;34m\u001b[0m\u001b[0m\n\u001b[1;32m   2526\u001b[0m             \u001b[0mx\u001b[0m \u001b[0;34m=\u001b[0m \u001b[0mx\u001b[0m\u001b[0;34m.\u001b[0m\u001b[0mravel\u001b[0m\u001b[0;34m(\u001b[0m\u001b[0morder\u001b[0m\u001b[0;34m=\u001b[0m\u001b[0;34m'K'\u001b[0m\u001b[0;34m)\u001b[0m\u001b[0;34m\u001b[0m\u001b[0;34m\u001b[0m\u001b[0m\n\u001b[0;32m-> 2527\u001b[0;31m             \u001b[0;32mif\u001b[0m \u001b[0misComplexType\u001b[0m\u001b[0;34m(\u001b[0m\u001b[0mx\u001b[0m\u001b[0;34m.\u001b[0m\u001b[0mdtype\u001b[0m\u001b[0;34m.\u001b[0m\u001b[0mtype\u001b[0m\u001b[0;34m)\u001b[0m\u001b[0;34m:\u001b[0m\u001b[0;34m\u001b[0m\u001b[0;34m\u001b[0m\u001b[0m\n\u001b[0m\u001b[1;32m   2528\u001b[0m                 \u001b[0msqnorm\u001b[0m \u001b[0;34m=\u001b[0m \u001b[0mdot\u001b[0m\u001b[0;34m(\u001b[0m\u001b[0mx\u001b[0m\u001b[0;34m.\u001b[0m\u001b[0mreal\u001b[0m\u001b[0;34m,\u001b[0m \u001b[0mx\u001b[0m\u001b[0;34m.\u001b[0m\u001b[0mreal\u001b[0m\u001b[0;34m)\u001b[0m \u001b[0;34m+\u001b[0m \u001b[0mdot\u001b[0m\u001b[0;34m(\u001b[0m\u001b[0mx\u001b[0m\u001b[0;34m.\u001b[0m\u001b[0mimag\u001b[0m\u001b[0;34m,\u001b[0m \u001b[0mx\u001b[0m\u001b[0;34m.\u001b[0m\u001b[0mimag\u001b[0m\u001b[0;34m)\u001b[0m\u001b[0;34m\u001b[0m\u001b[0;34m\u001b[0m\u001b[0m\n\u001b[1;32m   2529\u001b[0m             \u001b[0;32melse\u001b[0m\u001b[0;34m:\u001b[0m\u001b[0;34m\u001b[0m\u001b[0;34m\u001b[0m\u001b[0m\n",
      "\u001b[0;32m~/anaconda3/lib/python3.8/site-packages/numpy/linalg/linalg.py\u001b[0m in \u001b[0;36misComplexType\u001b[0;34m(t)\u001b[0m\n\u001b[1;32m    110\u001b[0m     \u001b[0;32mreturn\u001b[0m \u001b[0mnew\u001b[0m\u001b[0;34m,\u001b[0m \u001b[0mwrap\u001b[0m\u001b[0;34m\u001b[0m\u001b[0;34m\u001b[0m\u001b[0m\n\u001b[1;32m    111\u001b[0m \u001b[0;34m\u001b[0m\u001b[0m\n\u001b[0;32m--> 112\u001b[0;31m \u001b[0;32mdef\u001b[0m \u001b[0misComplexType\u001b[0m\u001b[0;34m(\u001b[0m\u001b[0mt\u001b[0m\u001b[0;34m)\u001b[0m\u001b[0;34m:\u001b[0m\u001b[0;34m\u001b[0m\u001b[0;34m\u001b[0m\u001b[0m\n\u001b[0m\u001b[1;32m    113\u001b[0m     \u001b[0;32mreturn\u001b[0m \u001b[0missubclass\u001b[0m\u001b[0;34m(\u001b[0m\u001b[0mt\u001b[0m\u001b[0;34m,\u001b[0m \u001b[0mcomplexfloating\u001b[0m\u001b[0;34m)\u001b[0m\u001b[0;34m\u001b[0m\u001b[0;34m\u001b[0m\u001b[0m\n\u001b[1;32m    114\u001b[0m \u001b[0;34m\u001b[0m\u001b[0m\n",
      "\u001b[0;31mKeyboardInterrupt\u001b[0m: "
     ]
    }
   ],
   "source": [
    "n = 10**3\n",
    "np.random.seed(288874)\n",
    "x0 = np.random.random(n)\n",
    "\n",
    "\n",
    "for i in range(10,20):    \n",
    "    x_seq_i, k_i, fk_i, t_i = steepest_descent(x0, i, tol, grad_method='f', grad_method_k=2)\n",
    "    \n",
    "    print(i, x_seq_i[:,k_i])"
   ]
  },
  {
   "cell_type": "code",
   "execution_count": 53,
   "metadata": {},
   "outputs": [
    {
     "name": "stdout",
     "output_type": "stream",
     "text": [
      "2\n",
      "998 119.52804613113403\n",
      "4\n",
      "998 116.28724718093872\n",
      "6\n",
      "998 112.26440358161926\n",
      "8\n",
      "12 1.3172345161437988\n",
      "10\n",
      "12 1.335909128189087\n",
      "12\n",
      "12 1.3207130432128906\n",
      "14\n",
      "14 1.6845183372497559\n"
     ]
    }
   ],
   "source": [
    "for i in range(len(k_k)):\n",
    "    print(range(2, 15, 2)[i])    \n",
    "    print(k_k[i], t_k[i])"
   ]
  },
  {
   "cell_type": "code",
   "execution_count": 6,
   "metadata": {},
   "outputs": [
    {
     "ename": "KeyboardInterrupt",
     "evalue": "",
     "output_type": "error",
     "traceback": [
      "\u001b[0;31m---------------------------------------------------------------------------\u001b[0m",
      "\u001b[0;31mKeyboardInterrupt\u001b[0m                         Traceback (most recent call last)",
      "\u001b[0;32m<ipython-input-6-fd22f39e613c>\u001b[0m in \u001b[0;36m<module>\u001b[0;34m\u001b[0m\n\u001b[0;32m----> 1\u001b[0;31m \u001b[0msteepest_descent\u001b[0m\u001b[0;34m(\u001b[0m\u001b[0mx0\u001b[0m\u001b[0;34m,\u001b[0m  \u001b[0mkmax\u001b[0m\u001b[0;34m,\u001b[0m \u001b[0mtol\u001b[0m\u001b[0;34m,\u001b[0m \u001b[0mgrad_method\u001b[0m\u001b[0;34m=\u001b[0m\u001b[0;34m'f'\u001b[0m\u001b[0;34m,\u001b[0m \u001b[0mgrad_method_k\u001b[0m\u001b[0;34m=\u001b[0m\u001b[0;36m2\u001b[0m\u001b[0;34m)\u001b[0m\u001b[0;34m\u001b[0m\u001b[0;34m\u001b[0m\u001b[0m\n\u001b[0m",
      "\u001b[0;32m<ipython-input-3-3a03a4f9a8af>\u001b[0m in \u001b[0;36msteepest_descent\u001b[0;34m(x0, kmax, tollgrad, descent_method, alpha, grad_method, grad_method_k)\u001b[0m\n\u001b[1;32m     34\u001b[0m \u001b[0;34m\u001b[0m\u001b[0m\n\u001b[1;32m     35\u001b[0m             \u001b[0;31m# Compute the gradient of f in xk\u001b[0m\u001b[0;34m\u001b[0m\u001b[0;34m\u001b[0m\u001b[0;34m\u001b[0m\u001b[0m\n\u001b[0;32m---> 36\u001b[0;31m             \u001b[0mdelta_fk_norm\u001b[0m \u001b[0;34m=\u001b[0m \u001b[0mnp\u001b[0m\u001b[0;34m.\u001b[0m\u001b[0mlinalg\u001b[0m\u001b[0;34m.\u001b[0m\u001b[0mnorm\u001b[0m\u001b[0;34m(\u001b[0m\u001b[0mdelta_f\u001b[0m\u001b[0;34m(\u001b[0m\u001b[0mx\u001b[0m\u001b[0;34m[\u001b[0m\u001b[0;34m:\u001b[0m\u001b[0;34m,\u001b[0m \u001b[0mk\u001b[0m\u001b[0;34m+\u001b[0m\u001b[0;36m1\u001b[0m\u001b[0;34m]\u001b[0m\u001b[0;34m,\u001b[0m \u001b[0mmethod\u001b[0m \u001b[0;34m=\u001b[0m \u001b[0mgrad_method\u001b[0m\u001b[0;34m,\u001b[0m \u001b[0mk\u001b[0m \u001b[0;34m=\u001b[0m \u001b[0mgrad_method_k\u001b[0m\u001b[0;34m)\u001b[0m\u001b[0;34m)\u001b[0m\u001b[0;34m\u001b[0m\u001b[0;34m\u001b[0m\u001b[0m\n\u001b[0m\u001b[1;32m     37\u001b[0m \u001b[0;34m\u001b[0m\u001b[0m\n\u001b[1;32m     38\u001b[0m             \u001b[0;31m# Increase the step by one\u001b[0m\u001b[0;34m\u001b[0m\u001b[0;34m\u001b[0m\u001b[0;34m\u001b[0m\u001b[0m\n",
      "\u001b[0;32m<ipython-input-2-dcd4b29f2652>\u001b[0m in \u001b[0;36mdelta_f\u001b[0;34m(x, method, k)\u001b[0m\n\u001b[1;32m     14\u001b[0m             \u001b[0me\u001b[0m\u001b[0;34m[\u001b[0m\u001b[0mi\u001b[0m\u001b[0;34m]\u001b[0m \u001b[0;34m=\u001b[0m \u001b[0;36m1\u001b[0m\u001b[0;34m\u001b[0m\u001b[0;34m\u001b[0m\u001b[0m\n\u001b[1;32m     15\u001b[0m             \u001b[0mh\u001b[0m\u001b[0;34m[\u001b[0m\u001b[0mi\u001b[0m\u001b[0;34m]\u001b[0m \u001b[0;34m=\u001b[0m \u001b[0;36m10\u001b[0m\u001b[0;34m**\u001b[0m\u001b[0;34m(\u001b[0m\u001b[0;34m-\u001b[0m\u001b[0mk\u001b[0m\u001b[0;34m)\u001b[0m \u001b[0;34m*\u001b[0m \u001b[0mnp\u001b[0m\u001b[0;34m.\u001b[0m\u001b[0mlinalg\u001b[0m\u001b[0;34m.\u001b[0m\u001b[0mnorm\u001b[0m\u001b[0;34m(\u001b[0m\u001b[0mx\u001b[0m\u001b[0;34m)\u001b[0m \u001b[0;34m*\u001b[0m \u001b[0me\u001b[0m\u001b[0;34m[\u001b[0m\u001b[0mi\u001b[0m\u001b[0;34m]\u001b[0m\u001b[0;34m\u001b[0m\u001b[0;34m\u001b[0m\u001b[0m\n\u001b[0;32m---> 16\u001b[0;31m         \u001b[0;32mreturn\u001b[0m \u001b[0;34m(\u001b[0m\u001b[0mf\u001b[0m\u001b[0;34m(\u001b[0m\u001b[0mx\u001b[0m\u001b[0;34m+\u001b[0m\u001b[0mh\u001b[0m\u001b[0;34m)\u001b[0m \u001b[0;34m-\u001b[0m \u001b[0mf\u001b[0m\u001b[0;34m(\u001b[0m\u001b[0mx\u001b[0m\u001b[0;34m)\u001b[0m\u001b[0;34m)\u001b[0m \u001b[0;34m/\u001b[0m \u001b[0mh\u001b[0m\u001b[0;34m\u001b[0m\u001b[0;34m\u001b[0m\u001b[0m\n\u001b[0m\u001b[1;32m     17\u001b[0m     \u001b[0;32melif\u001b[0m \u001b[0mmethod\u001b[0m \u001b[0;34m==\u001b[0m\u001b[0;34m'b'\u001b[0m\u001b[0;34m:\u001b[0m\u001b[0;34m\u001b[0m\u001b[0;34m\u001b[0m\u001b[0m\n\u001b[1;32m     18\u001b[0m         \u001b[0mh\u001b[0m \u001b[0;34m=\u001b[0m \u001b[0mnp\u001b[0m\u001b[0;34m.\u001b[0m\u001b[0mzeros\u001b[0m\u001b[0;34m(\u001b[0m\u001b[0mlen\u001b[0m\u001b[0;34m(\u001b[0m\u001b[0mx\u001b[0m\u001b[0;34m)\u001b[0m\u001b[0;34m)\u001b[0m\u001b[0;34m\u001b[0m\u001b[0;34m\u001b[0m\u001b[0m\n",
      "\u001b[0;32m<ipython-input-2-dcd4b29f2652>\u001b[0m in \u001b[0;36mf\u001b[0;34m(x)\u001b[0m\n\u001b[1;32m      2\u001b[0m     \u001b[0mf\u001b[0m \u001b[0;34m=\u001b[0m \u001b[0mnp\u001b[0m\u001b[0;34m.\u001b[0m\u001b[0mzeros\u001b[0m\u001b[0;34m(\u001b[0m\u001b[0mlen\u001b[0m\u001b[0;34m(\u001b[0m\u001b[0mx\u001b[0m\u001b[0;34m)\u001b[0m\u001b[0;34m)\u001b[0m\u001b[0;34m\u001b[0m\u001b[0;34m\u001b[0m\u001b[0m\n\u001b[1;32m      3\u001b[0m     \u001b[0;32mfor\u001b[0m \u001b[0mi\u001b[0m \u001b[0;32min\u001b[0m \u001b[0mrange\u001b[0m\u001b[0;34m(\u001b[0m\u001b[0mlen\u001b[0m\u001b[0;34m(\u001b[0m\u001b[0mx\u001b[0m\u001b[0;34m)\u001b[0m\u001b[0;34m)\u001b[0m\u001b[0;34m:\u001b[0m\u001b[0;34m\u001b[0m\u001b[0;34m\u001b[0m\u001b[0m\n\u001b[0;32m----> 4\u001b[0;31m         \u001b[0mf\u001b[0m\u001b[0;34m[\u001b[0m\u001b[0mi\u001b[0m\u001b[0;34m]\u001b[0m \u001b[0;34m=\u001b[0m \u001b[0mnp\u001b[0m\u001b[0;34m.\u001b[0m\u001b[0mpower\u001b[0m\u001b[0;34m(\u001b[0m\u001b[0mx\u001b[0m\u001b[0;34m[\u001b[0m\u001b[0mi\u001b[0m\u001b[0;34m]\u001b[0m\u001b[0;34m,\u001b[0m \u001b[0;36m4\u001b[0m\u001b[0;34m)\u001b[0m\u001b[0;34m/\u001b[0m\u001b[0;36m4\u001b[0m \u001b[0;34m+\u001b[0m \u001b[0mnp\u001b[0m\u001b[0;34m.\u001b[0m\u001b[0mpower\u001b[0m\u001b[0;34m(\u001b[0m\u001b[0mx\u001b[0m\u001b[0;34m[\u001b[0m\u001b[0mi\u001b[0m\u001b[0;34m]\u001b[0m\u001b[0;34m,\u001b[0m \u001b[0;36m2\u001b[0m\u001b[0;34m)\u001b[0m\u001b[0;34m/\u001b[0m\u001b[0;36m2\u001b[0m \u001b[0;34m+\u001b[0m \u001b[0mx\u001b[0m\u001b[0;34m[\u001b[0m\u001b[0mi\u001b[0m\u001b[0;34m]\u001b[0m\u001b[0;34m\u001b[0m\u001b[0;34m\u001b[0m\u001b[0m\n\u001b[0m\u001b[1;32m      5\u001b[0m     \u001b[0;32mreturn\u001b[0m \u001b[0mf\u001b[0m\u001b[0;34m\u001b[0m\u001b[0;34m\u001b[0m\u001b[0m\n\u001b[1;32m      6\u001b[0m \u001b[0;34m\u001b[0m\u001b[0m\n",
      "\u001b[0;31mKeyboardInterrupt\u001b[0m: "
     ]
    }
   ],
   "source": [
    "steepest_descent(x0,  kmax, tol, grad_method='f', grad_method_k=2)"
   ]
  },
  {
   "cell_type": "code",
   "execution_count": 35,
   "metadata": {
    "scrolled": true
   },
   "outputs": [],
   "source": [
    "x_seq, k, fk, t = steepest_descent(x0,  kmax, tol)"
   ]
  },
  {
   "cell_type": "code",
   "execution_count": 27,
   "metadata": {
    "scrolled": true
   },
   "outputs": [],
   "source": [
    "x_seq_fr, k_fr, fk_fr, t_fr = steepest_descent(x0, kmax, tol,  descent_method='fr')"
   ]
  },
  {
   "cell_type": "code",
   "execution_count": 28,
   "metadata": {},
   "outputs": [],
   "source": [
    "x_seq_pr, k_pr, fk_pr, t_pr = steepest_descent(x0, kmax, tol,  descent_method='pr')"
   ]
  },
  {
   "cell_type": "code",
   "execution_count": 36,
   "metadata": {},
   "outputs": [
    {
     "name": "stdout",
     "output_type": "stream",
     "text": [
      "12 12 15\n",
      "0.23470473289489746 22.778156518936157 26.53243327140808\n"
     ]
    }
   ],
   "source": [
    "#n2\n",
    "print(k, k_fr, k_pr)\n",
    "print(t, t_fr, t_pr)"
   ]
  },
  {
   "cell_type": "code",
   "execution_count": 19,
   "metadata": {},
   "outputs": [
    {
     "name": "stdout",
     "output_type": "stream",
     "text": [
      "12 10 13\n",
      "0.21367144584655762 0.17501425743103027 0.2216014862060547\n"
     ]
    }
   ],
   "source": [
    "#n3\n",
    "print(k, k_fr, k_pr)\n",
    "print(t, t_fr, t_pr)"
   ]
  },
  {
   "cell_type": "code",
   "execution_count": 24,
   "metadata": {},
   "outputs": [
    {
     "name": "stdout",
     "output_type": "stream",
     "text": [
      "12 11 14\n",
      "2.11283278465271 2.082073211669922 2.6291205883026123\n"
     ]
    }
   ],
   "source": [
    "#n4\n",
    "print(k, k_fr, k_pr)\n",
    "print(t, t_fr, t_pr)"
   ]
  },
  {
   "cell_type": "code",
   "execution_count": 29,
   "metadata": {},
   "outputs": [
    {
     "name": "stdout",
     "output_type": "stream",
     "text": [
      "13 12 15\n",
      "24.336535215377808 22.778156518936157 26.53243327140808\n"
     ]
    }
   ],
   "source": [
    "#n5\n",
    "print(k, k_fr, k_pr)\n",
    "print(t, t_fr, t_pr)"
   ]
  },
  {
   "cell_type": "code",
   "execution_count": null,
   "metadata": {},
   "outputs": [],
   "source": []
  },
  {
   "cell_type": "code",
   "execution_count": null,
   "metadata": {},
   "outputs": [],
   "source": [
    "v = [2, 4, 10]"
   ]
  },
  {
   "cell_type": "code",
   "execution_count": null,
   "metadata": {},
   "outputs": [],
   "source": [
    "delta_f(v, method='forward')"
   ]
  },
  {
   "cell_type": "code",
   "execution_count": null,
   "metadata": {},
   "outputs": [],
   "source": [
    "delta_f(v)"
   ]
  },
  {
   "cell_type": "code",
   "execution_count": null,
   "metadata": {},
   "outputs": [],
   "source": [
    "for k in range(2,4,2):\n",
    "    print(k, delta_f(v,method='centered', k=k))"
   ]
  },
  {
   "cell_type": "code",
   "execution_count": null,
   "metadata": {},
   "outputs": [],
   "source": []
  },
  {
   "cell_type": "code",
   "execution_count": null,
   "metadata": {},
   "outputs": [],
   "source": []
  }
 ],
 "metadata": {
  "kernelspec": {
   "display_name": "Python 3",
   "language": "python",
   "name": "python3"
  },
  "language_info": {
   "codemirror_mode": {
    "name": "ipython",
    "version": 3
   },
   "file_extension": ".py",
   "mimetype": "text/x-python",
   "name": "python",
   "nbconvert_exporter": "python",
   "pygments_lexer": "ipython3",
   "version": "3.8.5"
  }
 },
 "nbformat": 4,
 "nbformat_minor": 4
}
