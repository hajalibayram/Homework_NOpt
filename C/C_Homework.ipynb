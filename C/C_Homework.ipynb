{
 "cells": [
  {
   "cell_type": "code",
   "execution_count": 1,
   "metadata": {},
   "outputs": [],
   "source": [
    "import numpy as np\n",
    "import time\n",
    "\n",
    "import matplotlib.pyplot as plt"
   ]
  },
  {
   "cell_type": "markdown",
   "metadata": {},
   "source": [
    "$\\frac{1}{4}x_i^{4} + \\frac{1}{2}x_i^{2} -x_i$"
   ]
  },
  {
   "cell_type": "code",
   "execution_count": 2,
   "metadata": {},
   "outputs": [],
   "source": [
    "# def f(x):\n",
    "#     '''\n",
    "#     1/4 * x^4 + 1/2 * x^2 - x \n",
    "#     '''\n",
    "#     f = np.zeros(len(x))\n",
    "#     for i in range(len(x)):\n",
    "#         f[i] = np.power(x[i], 4)/4 + np.power(x[i], 2)/2 - x[i]\n",
    "#     return f\n",
    "\n",
    "f = lambda x: (1/4)*np.power(x, 4) + (1/2)*np.power(x,2) - x #function\n",
    "\n",
    "\n",
    "def delta_f(x, method = 'e', k = 10):\n",
    "    '''\n",
    "    method: default='e'\n",
    "        e : exact derivative,\n",
    "        f : forward differences,\n",
    "        b : backward differences,\n",
    "        c : centered differences\n",
    "    k: default=10, value for increment h; is ignored when method='e'\n",
    "    \n",
    "    Exact gradient function:\n",
    "        x^3 + x - 1 \n",
    "    \n",
    "    Forward differences:\n",
    "        (f(x+h) - f(x)) / h\n",
    "\n",
    "    Backward differences:\n",
    "        (f(x) - f(x-h)) / h\n",
    "\n",
    "    Centered differences:\n",
    "        (f(x+h) - f(x-h)) / 2h\n",
    "    \n",
    "    where h = 10^-k norm(x)\n",
    "    '''\n",
    "        \n",
    "    if method == 'e': \n",
    "        return np.power(x, 3) + x - 1\n",
    "    else:\n",
    "        ga = np.zeros(len(x))\n",
    "        h = 10**(-k) * np.linalg.norm(x)\n",
    "        \n",
    "        if method =='f':\n",
    "            for i in range(len(x)):\n",
    "                ga[i] = (f(x[i]+h) - f(x[i])) / h\n",
    "            return ga   \n",
    "        elif method =='b':\n",
    "            for i in range(len(x)):\n",
    "                ga[i] = (f(x[i]) - f(x[i]-h)) / h\n",
    "            return ga\n",
    "        elif method =='c':\n",
    "            for i in range(len(x)):\n",
    "                ga[i] = (f(x[i]+h) - f(x[i]-h)) / (2*h)\n",
    "            return ga   \n",
    "\n",
    "def project(y, L, U):\n",
    "    p = np.zeros(len(y))\n",
    "    for i in range(len(y)):\n",
    "        if y[i]<L[i]: \n",
    "            p[i] = L[i]\n",
    "        elif y[i]>U[i]:\n",
    "            p[i] = U[i]\n",
    "        else:\n",
    "            p[i] = y[i]\n",
    "    return p"
   ]
  },
  {
   "attachments": {
    "image.png": {
     "image/png": "[encoded data removed]"
    }
   },
   "cell_type": "markdown",
   "metadata": {},
   "source": [
    "![image.png](attachment:image.png)"
   ]
  },
  {
   "cell_type": "code",
   "execution_count": 3,
   "metadata": {},
   "outputs": [],
   "source": [
    "def descent(x0, L, U, kmax = 300, tollgrad = 10**(-4), alpha = 0.3, gamma = 0.1, grad_method = 'e', grad_method_k = 10):\n",
    "    '''\n",
    "    x0: initial points for x\n",
    "    L: lower bound\n",
    "    U: upper bound\n",
    "    kmax: max iteration\n",
    "    tollgrad: tolerance for gradient\n",
    "    alpha: default=0.31, initial alpha\n",
    "    gamma: default=0.1\n",
    "    grad_method: default='e'\n",
    "        e : exact derivative,\n",
    "        f : forward differences,\n",
    "        b : backward differences,\n",
    "        c : centered differences\n",
    "    grad_method_k: default=10, value for increment h; is ignored when method='e'\n",
    "    '''\n",
    "       \n",
    "    x = np.zeros((len(x0), kmax+1)) # kmax+1 because we need to also consider x[k+1] case later on\n",
    "    x[:, 0] = x0\n",
    "    \n",
    "#     p_k = -delta_f(x0, method = grad_method, k = grad_method_k)\n",
    "\n",
    "    \n",
    "    delta_fk_norm = np.linalg.norm(delta_f(x0, method = grad_method, k = grad_method_k))\n",
    "\n",
    "    k = 0\n",
    "    \n",
    "    # constants for line search algorithm\n",
    "    rho = 0.35\n",
    "    jmax = 30\n",
    "    c1_arm = 10**(-5)\n",
    "    \n",
    "    gamma_k = gamma\n",
    "    alpha_k = 1\n",
    "\n",
    "    p_k = -delta_f(x[:, 0], method = grad_method, k = grad_method_k)\n",
    "    \n",
    "    s = time.time()\n",
    "    while(k < kmax and delta_fk_norm >= tollgrad):\n",
    "\n",
    "#         print(p_k)\n",
    "        x_k_hat = project(x[:, k] - gamma_k * (-p_k), L, U)\n",
    "\n",
    "        # Find alpha using line search(backtracking method) with respect to the Armijo condition\n",
    "        j = 0\n",
    "        while (j < jmax and\n",
    "               (f(x[:, k] + alpha_k * (x_k_hat-x[:, k])) - f(x[:, k])).sum() >= c1_arm * alpha_k * p_k.T @ (x_k_hat-x[:, k])) and alpha_k>0.25:\n",
    "            alpha_k = alpha_k * rho\n",
    "            j+=1\n",
    "#             print('alpha ', alpha_k, f(x[:, k] + alpha_k * (x_k_hat-x[:, k])).sum()- f(x[:, k]).sum()- c1_arm * alpha_k * delta_f(x[:, k], method = grad_method, k = grad_method_k).T @ p_k)\n",
    "        \n",
    "#         print(k, x[:, k])\n",
    "        # Compute the new value for xk\n",
    "        x[:, k+1] = x[:, k] + alpha_k * (x_k_hat - x[:, k])\n",
    "        \n",
    "        x[:, k+1] = project(x[:, k+1])\n",
    "        \n",
    "        if np.allclose(x[:, k+1], L, rtol=1e-03) or np.allclose(x[:, k+1], U, rtol=1e-03):\n",
    "            break\n",
    "        \n",
    "        p_k = -delta_f(x[:, k+1], method = grad_method, k = grad_method_k)\n",
    "\n",
    "        # Compute the gradient of f in xk\n",
    "        delta_fk_norm = np.linalg.norm(-p_k)\n",
    "\n",
    "        # Increase the step by one\n",
    "        k += 1\n",
    "                \n",
    "    t = time.time() - s\n",
    "    # Compute f(xk)\n",
    "    fk = f(x[:, k-1]).sum()\n",
    "\n",
    "    # \"Cut\" xseq to the correct size and return\n",
    "    return x[:, :k], k-1, fk, t"
   ]
  },
  {
   "attachments": {
    "image.png": {
     "image/png": "[encoded data removed]"
    }
   },
   "cell_type": "markdown",
   "metadata": {},
   "source": [
    "![image.png](attachment:image.png)"
   ]
  },
  {
   "cell_type": "markdown",
   "metadata": {},
   "source": [
    "#### Naming guide\n",
    "\n",
    "\"variable\"+ _A _B \n",
    "\n",
    "    A - length of vector as a power of 10 (10^4, 10^6)\n",
    "\n",
    "    B - gradient method (e, f, c, b)\n",
    "    \n",
    "    \n",
    "Example: k_4_e - iterations with n=10^4, using exact derivative"
   ]
  },
  {
   "cell_type": "markdown",
   "metadata": {},
   "source": [
    "# 1. n = 10^4"
   ]
  },
  {
   "cell_type": "markdown",
   "metadata": {},
   "source": [
    "## A) Exact gradient"
   ]
  },
  {
   "cell_type": "code",
   "execution_count": 33,
   "metadata": {},
   "outputs": [
    {
     "name": "stdout",
     "output_type": "stream",
     "text": [
      "Exact derivative for 10^4 --- Iteration: 48, time:0.5868959426879883 s\n"
     ]
    }
   ],
   "source": [
    "n = 10**4\n",
    "np.random.seed(288874)\n",
    "x0 = np.random.random(n)\n",
    "L = np.ones(n)     #lower bound (1)\n",
    "U = np.ones(n) * 2 #upper bound (2)\n",
    "\n",
    "x_seq_4_e, k_4_e, fk_4_e, t_4_e = descent(x0, L, U, grad_method='e')\n",
    "\n",
    "print(f\"Exact derivative for 10^4 --- Iteration: {k_4_e+1}, time:{t_4_e} s\")"
   ]
  },
  {
   "cell_type": "markdown",
   "metadata": {},
   "source": [
    "## B) Forward differences gradient"
   ]
  },
  {
   "cell_type": "code",
   "execution_count": 6,
   "metadata": {
    "scrolled": false
   },
   "outputs": [
    {
     "name": "stdout",
     "output_type": "stream",
     "text": [
      "k: 2\n",
      "Iteration: 48, time:6.691483974456787 s \n",
      "\n",
      "k: 4\n",
      "Iteration: 48, time:6.573555946350098 s \n",
      "\n",
      "k: 6\n",
      "Iteration: 48, time:6.187804937362671 s \n",
      "\n",
      "k: 8\n",
      "Iteration: 48, time:6.171245574951172 s \n",
      "\n",
      "k: 10\n",
      "Iteration: 48, time:6.299541473388672 s \n",
      "\n",
      "k: 12\n",
      "Iteration: 48, time:6.072954893112183 s \n",
      "\n"
     ]
    }
   ],
   "source": [
    "n = 10**4\n",
    "np.random.seed(288874)\n",
    "x0 = np.random.random(n)\n",
    "L = np.ones(n)     #lower bound (1)\n",
    "U = np.ones(n) * 2 #upper bound (2)\n",
    "\n",
    "x_seq_k_4_f = [] \n",
    "k_k_4_f = []\n",
    "fk_k_4_f = []\n",
    "t_k_4_f = []\n",
    "\n",
    "for i in range(2, 13, 2):\n",
    "    print(f\"k: {i}\")\n",
    "    x_seq_i, k_i, fk_i, t_i = descent(x0, L, U, grad_method='f', grad_method_k=i)\n",
    "    \n",
    "    print(f\"Iteration: {k_i+1}, time:{t_i} s \\n\")\n",
    "    \n",
    "    x_seq_k_4_f.append(x_seq_i)\n",
    "    k_k_4_f.append(k_i)\n",
    "    fk_k_4_f.append(fk_i)\n",
    "    t_k_4_f.append(t_i)"
   ]
  },
  {
   "cell_type": "markdown",
   "metadata": {},
   "source": [
    "# 2. n = 10^6"
   ]
  },
  {
   "cell_type": "markdown",
   "metadata": {},
   "source": [
    "## A) Exact gradient"
   ]
  },
  {
   "cell_type": "code",
   "execution_count": 8,
   "metadata": {},
   "outputs": [
    {
     "name": "stdout",
     "output_type": "stream",
     "text": [
      "Exact derivative for 10^6 --- Iteration: 48, time:46.902482748031616 s\n"
     ]
    }
   ],
   "source": [
    "n = 10**6\n",
    "np.random.seed(288874)\n",
    "x0 = np.random.random(n)\n",
    "L = np.ones(n)     #lower bound (1)\n",
    "U = np.ones(n) * 2 #upper bound (2)\n",
    "\n",
    "x_seq_6_e, k_6_e, fk_6_e, t_6_e = descent(x0, L, U, grad_method='e')\n",
    "\n",
    "print(f\"Exact derivative for 10^6 --- Iteration: {k_6_e+1}, time:{t_6_e} s\")"
   ]
  },
  {
   "cell_type": "markdown",
   "metadata": {},
   "source": [
    "## B) Forward differences gradient"
   ]
  },
  {
   "cell_type": "code",
   "execution_count": 4,
   "metadata": {
    "scrolled": true
   },
   "outputs": [
    {
     "name": "stdout",
     "output_type": "stream",
     "text": [
      "k: 2\n",
      "Iteration: 48, time:595.2214076519012 s \n",
      "\n",
      "k: 4\n",
      "Iteration: 48, time:594.6810591220856 s \n",
      "\n",
      "k: 6\n",
      "Iteration: 48, time:587.5145070552826 s \n",
      "\n",
      "k: 8\n",
      "Iteration: 48, time:586.9224534034729 s \n",
      "\n"
     ]
    }
   ],
   "source": [
    "n = 10**6\n",
    "np.random.seed(288874)\n",
    "x0 = np.random.random(n)\n",
    "L = np.ones(n)     #lower bound (1)\n",
    "U = np.ones(n) * 2 #upper bound (2)\n",
    "\n",
    "x_seq_k_6_f = [] \n",
    "k_k_6_f = []\n",
    "fk_k_6_f = []\n",
    "t_k_6_f = []\n",
    "\n",
    "for i in range(2, 9, 2):\n",
    "    print(f\"k: {i}\")\n",
    "    x_seq_i, k_i, fk_i, t_i = descent(x0, L, U, grad_method='f', grad_method_k=i)\n",
    "    \n",
    "    print(f\"Iteration: {k_i+1}, time:{t_i} s \\n\")\n",
    "    \n",
    "    x_seq_k_6_f.append(x_seq_i)\n",
    "    k_k_6_f.append(k_i)\n",
    "    fk_k_6_f.append(fk_i)\n",
    "    t_k_6_f.append(t_i)"
   ]
  },
  {
   "cell_type": "code",
   "execution_count": 5,
   "metadata": {
    "scrolled": true
   },
   "outputs": [
    {
     "name": "stdout",
     "output_type": "stream",
     "text": [
      "k: 10\n",
      "Iteration: 48, time:585.0535550117493 s \n",
      "\n",
      "k: 12\n",
      "Iteration: 48, time:721.4772608280182 s \n",
      "\n"
     ]
    }
   ],
   "source": [
    "for i in range(10, 13, 2):\n",
    "    print(f\"k: {i}\")\n",
    "    x_seq_i, k_i, fk_i, t_i = descent(x0, L, U, grad_method='f', grad_method_k=i)\n",
    "    \n",
    "    print(f\"Iteration: {k_i+1}, time:{t_i} s \\n\")\n",
    "    \n",
    "    x_seq_k_6_f.append(x_seq_i)\n",
    "    k_k_6_f.append(k_i)\n",
    "    fk_k_6_f.append(fk_i)\n",
    "    t_k_6_f.append(t_i)"
   ]
  },
  {
   "cell_type": "code",
   "execution_count": null,
   "metadata": {},
   "outputs": [],
   "source": []
  },
  {
   "cell_type": "code",
   "execution_count": 13,
   "metadata": {},
   "outputs": [],
   "source": [
    "def draw_time_comparison(first, second, title= ' '):\n",
    "    fig, ax = plt.subplots(figsize = (10,5))\n",
    "    plt.grid()\n",
    "\n",
    "    fig.suptitle('Time comparison graph' + title, fontsize=20)\n",
    "    ax = plt.plot(range(2, 13, 2), first, 'r-',linewidth=3)\n",
    "    ax = plt.plot(range(2, 13, 2), second, 'b--',linewidth=3)\n",
    "    plt.legend(['n=10^4', 'n=10^6'], loc =\"upper left\", prop={'size': 12})\n",
    "    plt.xlabel('k parameter of finite difference ', fontsize=20)\n",
    "    plt.ylabel('Iteration time, seconds', fontsize=20)\n",
    "    plt.tick_params(axis='x', labelsize=20) \n",
    "    plt.tick_params(axis='y', labelsize=20)\n",
    "    \n",
    "    fig.savefig('Time_'+title+'.eps', format='eps')\n",
    "\n",
    "def draw_iteration_comparison(first, second, title= ' '):\n",
    "    fig, ax = plt.subplots(figsize = (10,5))\n",
    "    plt.grid()\n",
    "\n",
    "    fig.suptitle('# of iterations comparison graph ' + title, fontsize=20)\n",
    "    ax = plt.plot(range(2, 13, 2), first, 'r-',linewidth=3)\n",
    "    ax = plt.plot(range(2, 13, 2), second, 'b--',linewidth=3)\n",
    "    \n",
    "    plt.legend(['n=10^4', 'n=10^6'], loc =\"upper left\", prop={'size': 12})\n",
    "    plt.xlabel('k parameter of finite difference', fontsize=20)\n",
    "    plt.ylabel('Iterations', fontsize=20)\n",
    "    plt.tick_params(axis='x', labelsize=20) \n",
    "    plt.tick_params(axis='y', labelsize=20)\n",
    "    \n",
    "    fig.savefig('Iter_'+title+'.eps', format='eps')"
   ]
  },
  {
   "cell_type": "code",
   "execution_count": 15,
   "metadata": {
    "scrolled": false
   },
   "outputs": [
    {
     "name": "stderr",
     "output_type": "stream",
     "text": [
      "The PostScript backend does not support transparency; partially transparent artists will be rendered opaque.\n",
      "The PostScript backend does not support transparency; partially transparent artists will be rendered opaque.\n"
     ]
    },
    {
     "data": {
      "image/png": "[encoded data removed]",
      "text/plain": [
       "<Figure size 720x360 with 1 Axes>"
      ]
     },
     "metadata": {
      "needs_background": "light"
     },
     "output_type": "display_data"
    }
   ],
   "source": [
    "draw_time_comparison(t_k_4_f, t_k_6_f, ' of n = 10^4 and n = 10^6')"
   ]
  },
  {
   "cell_type": "code",
   "execution_count": 12,
   "metadata": {},
   "outputs": [
    {
     "name": "stderr",
     "output_type": "stream",
     "text": [
      "The PostScript backend does not support transparency; partially transparent artists will be rendered opaque.\n",
      "The PostScript backend does not support transparency; partially transparent artists will be rendered opaque.\n"
     ]
    },
    {
     "data": {
      "image/png": "[encoded data removed]",
      "text/plain": [
       "<Figure size 720x360 with 1 Axes>"
      ]
     },
     "metadata": {
      "needs_background": "light"
     },
     "output_type": "display_data"
    }
   ],
   "source": [
    "draw_iteration_comparison(k_k_4_f, k_k_6_f, ' of n = 10^4 and n = 10^6')"
   ]
  },
  {
   "cell_type": "code",
   "execution_count": null,
   "metadata": {},
   "outputs": [],
   "source": []
  },
  {
   "cell_type": "code",
   "execution_count": null,
   "metadata": {},
   "outputs": [],
   "source": []
  }
 ],
 "metadata": {
  "kernelspec": {
   "display_name": "Python 3",
   "language": "python",
   "name": "python3"
  },
  "language_info": {
   "codemirror_mode": {
    "name": "ipython",
    "version": 3
   },
   "file_extension": ".py",
   "mimetype": "text/x-python",
   "name": "python",
   "nbconvert_exporter": "python",
   "pygments_lexer": "ipython3",
   "version": "3.8.5"
  }
 },
 "nbformat": 4,
 "nbformat_minor": 4
}
